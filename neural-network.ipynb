{
 "cells": [
  {
   "cell_type": "code",
   "execution_count": 1,
   "id": "fe67bfc2",
   "metadata": {
    "execution": {
     "iopub.execute_input": "2024-12-23T10:01:24.829867Z",
     "iopub.status.busy": "2024-12-23T10:01:24.828668Z",
     "iopub.status.idle": "2024-12-23T10:01:42.768731Z",
     "shell.execute_reply": "2024-12-23T10:01:42.767669Z"
    },
    "papermill": {
     "duration": 17.947485,
     "end_time": "2024-12-23T10:01:42.771603",
     "exception": false,
     "start_time": "2024-12-23T10:01:24.824118",
     "status": "completed"
    },
    "tags": []
   },
   "outputs": [],
   "source": [
    "import numpy as np\n",
    "import pandas as pd\n",
    "import os\n",
    "import matplotlib.pyplot as plt\n",
    "from sklearn.model_selection import train_test_split\n",
    "from sklearn.preprocessing import StandardScaler\n",
    "from sklearn.metrics import classification_report, roc_auc_score\n",
    "from tensorflow.keras.models import Sequential\n",
    "from tensorflow.keras.layers import Dense, Dropout, BatchNormalization\n",
    "from tensorflow.keras.callbacks import EarlyStopping\n",
    "from tensorflow.keras.regularizers import l1_l2\n",
    "from tensorflow.keras.utils import to_categorical\n",
    "from imblearn.over_sampling import SMOTE\n",
    "import optuna\n",
    "\n",
    "# Tải dữ liệu\n",
    "input_path = '/kaggle/input'\n",
    "train_file = os.path.join(input_path, 'child-mind-institute-problematic-internet-use/train.csv')\n",
    "test_file = os.path.join(input_path, 'child-mind-institute-problematic-internet-use/test.csv')\n",
    "\n",
    "train_df = pd.read_csv(train_file)\n",
    "test_df = pd.read_csv(test_file)"
   ]
  },
  {
   "cell_type": "code",
   "execution_count": 2,
   "id": "fe890528",
   "metadata": {
    "execution": {
     "iopub.execute_input": "2024-12-23T10:01:42.778745Z",
     "iopub.status.busy": "2024-12-23T10:01:42.778295Z",
     "iopub.status.idle": "2024-12-23T10:01:43.114340Z",
     "shell.execute_reply": "2024-12-23T10:01:43.113148Z"
    },
    "papermill": {
     "duration": 0.342176,
     "end_time": "2024-12-23T10:01:43.116512",
     "exception": false,
     "start_time": "2024-12-23T10:01:42.774336",
     "status": "completed"
    },
    "tags": []
   },
   "outputs": [
    {
     "data": {
      "image/png": "[encoded data removed]",
      "text/plain": [
       "<Figure size 800x500 with 1 Axes>"
      ]
     },
     "metadata": {},
     "output_type": "display_data"
    }
   ],
   "source": [
    "# Tách cột ID và cột mục tiêu\n",
    "id_column = test_df['id']\n",
    "test_df = test_df.drop(columns=['id'])\n",
    "train_df = train_df.drop(columns=['id'])\n",
    "\n",
    "# Xử lý cột mục tiêu\n",
    "target = train_df.pop('sii')\n",
    "\n",
    "# Loại bỏ các dòng có giá trị mục tiêu bị thiếu\n",
    "train_df = train_df[target.notna()]\n",
    "target = target[target.notna()]\n",
    "\n",
    "# Biểu đồ kiểm tra cân bằng dữ liệu\n",
    "plt.figure(figsize=(8, 5))\n",
    "target.value_counts().plot(kind='bar', color='skyblue')\n",
    "plt.title('Phân phối các lớp trong cột mục tiêu (sii)')\n",
    "plt.xlabel('Lớp')\n",
    "plt.ylabel('Số lượng')\n",
    "plt.show()"
   ]
  },
  {
   "cell_type": "code",
   "execution_count": 3,
   "id": "e1ca3756",
   "metadata": {
    "execution": {
     "iopub.execute_input": "2024-12-23T10:01:43.123927Z",
     "iopub.status.busy": "2024-12-23T10:01:43.123488Z",
     "iopub.status.idle": "2024-12-23T10:01:43.322625Z",
     "shell.execute_reply": "2024-12-23T10:01:43.321399Z"
    },
    "papermill": {
     "duration": 0.205595,
     "end_time": "2024-12-23T10:01:43.325042",
     "exception": false,
     "start_time": "2024-12-23T10:01:43.119447",
     "status": "completed"
    },
    "tags": []
   },
   "outputs": [],
   "source": [
    "# Mã hóa các biến phân loại\n",
    "for col in train_df.columns:\n",
    "    if train_df[col].dtype == 'object':\n",
    "        train_df[col], _ = pd.factorize(train_df[col])\n",
    "for col in test_df.columns:\n",
    "    if test_df[col].dtype == 'object':\n",
    "        test_df[col], _ = pd.factorize(test_df[col])\n",
    "\n",
    "# Điền giá trị thiếu bằng trung vị\n",
    "train_df.fillna(train_df.median(), inplace=True)\n",
    "test_df.fillna(test_df.median(), inplace=True)\n",
    "\n",
    "# Đồng bộ hóa các cột giữa dữ liệu huấn luyện và kiểm tra\n",
    "common_columns = train_df.columns.intersection(test_df.columns)\n",
    "train_df = train_df[common_columns]\n",
    "test_df = test_df[common_columns]\n",
    "\n",
    "# Chuẩn hóa dữ liệu\n",
    "scaler = StandardScaler()\n",
    "X = scaler.fit_transform(train_df)\n",
    "X_test = scaler.transform(test_df)\n",
    "y = target.values\n",
    "\n",
    "# Cân bằng tập dữ liệu bằng SMOTE\n",
    "smote = SMOTE(random_state=42, k_neighbors=5)\n",
    "X, y = smote.fit_resample(X, y)\n",
    "\n",
    "# Chuyển cột mục tiêu sang dạng one-hot encoding\n",
    "y = to_categorical(y, num_classes=4)\n",
    "\n",
    "# Chia dữ liệu huấn luyện và kiểm tra\n",
    "X_train, X_val, y_train, y_val = train_test_split(X, y, test_size=0.2, random_state=42)\n"
   ]
  },
  {
   "cell_type": "code",
   "execution_count": 4,
   "id": "9f985c24",
   "metadata": {
    "execution": {
     "iopub.execute_input": "2024-12-23T10:01:43.333026Z",
     "iopub.status.busy": "2024-12-23T10:01:43.332590Z",
     "iopub.status.idle": "2024-12-23T10:19:49.255099Z",
     "shell.execute_reply": "2024-12-23T10:19:49.253954Z"
    },
    "papermill": {
     "duration": 1085.929188,
     "end_time": "2024-12-23T10:19:49.257259",
     "exception": false,
     "start_time": "2024-12-23T10:01:43.328071",
     "status": "completed"
    },
    "tags": []
   },
   "outputs": [
    {
     "name": "stderr",
     "output_type": "stream",
     "text": [
      "[I 2024-12-23 10:01:43,341] A new study created in memory with name: no-name-7d94004e-6d64-4551-86b1-eef0fcb8214a\n",
      "/opt/conda/lib/python3.10/site-packages/keras/src/layers/core/dense.py:87: UserWarning: Do not pass an `input_shape`/`input_dim` argument to a layer. When using Sequential models, prefer using an `Input(shape)` object as the first layer in the model instead.\n",
      "  super().__init__(activity_regularizer=activity_regularizer, **kwargs)\n"
     ]
    },
    {
     "name": "stdout",
     "output_type": "stream",
     "text": [
      "\u001b[1m40/40\u001b[0m \u001b[32m━━━━━━━━━━━━━━━━━━━━\u001b[0m\u001b[37m\u001b[0m \u001b[1m0s\u001b[0m 4ms/step\n"
     ]
    },
    {
     "name": "stderr",
     "output_type": "stream",
     "text": [
      "[I 2024-12-23 10:02:04,913] Trial 0 finished with value: 0.9448134005562523 and parameters: {'units_layer1': 143, 'dropout_layer1': 0.28208894785085903, 'units_layer2': 61, 'dropout_layer2': 0.2442062686545051, 'units_layer3': 58, 'dropout_layer3': 0.44952659905816994}. Best is trial 0 with value: 0.9448134005562523.\n",
      "/opt/conda/lib/python3.10/site-packages/keras/src/layers/core/dense.py:87: UserWarning: Do not pass an `input_shape`/`input_dim` argument to a layer. When using Sequential models, prefer using an `Input(shape)` object as the first layer in the model instead.\n",
      "  super().__init__(activity_regularizer=activity_regularizer, **kwargs)\n"
     ]
    },
    {
     "name": "stdout",
     "output_type": "stream",
     "text": [
      "\u001b[1m40/40\u001b[0m \u001b[32m━━━━━━━━━━━━━━━━━━━━\u001b[0m\u001b[37m\u001b[0m \u001b[1m0s\u001b[0m 4ms/step\n"
     ]
    },
    {
     "name": "stderr",
     "output_type": "stream",
     "text": [
      "[I 2024-12-23 10:02:32,595] Trial 1 finished with value: 0.9512055534895018 and parameters: {'units_layer1': 163, 'dropout_layer1': 0.3997951009797528, 'units_layer2': 64, 'dropout_layer2': 0.37582763903160854, 'units_layer3': 43, 'dropout_layer3': 0.25684950309032456}. Best is trial 1 with value: 0.9512055534895018.\n",
      "/opt/conda/lib/python3.10/site-packages/keras/src/layers/core/dense.py:87: UserWarning: Do not pass an `input_shape`/`input_dim` argument to a layer. When using Sequential models, prefer using an `Input(shape)` object as the first layer in the model instead.\n",
      "  super().__init__(activity_regularizer=activity_regularizer, **kwargs)\n"
     ]
    },
    {
     "name": "stdout",
     "output_type": "stream",
     "text": [
      "\u001b[1m40/40\u001b[0m \u001b[32m━━━━━━━━━━━━━━━━━━━━\u001b[0m\u001b[37m\u001b[0m \u001b[1m0s\u001b[0m 4ms/step\n"
     ]
    },
    {
     "name": "stderr",
     "output_type": "stream",
     "text": [
      "[I 2024-12-23 10:02:50,616] Trial 2 finished with value: 0.9504653422924378 and parameters: {'units_layer1': 135, 'dropout_layer1': 0.2178694101916883, 'units_layer2': 121, 'dropout_layer2': 0.25857849801185495, 'units_layer3': 22, 'dropout_layer3': 0.3648002085158537}. Best is trial 1 with value: 0.9512055534895018.\n",
      "/opt/conda/lib/python3.10/site-packages/keras/src/layers/core/dense.py:87: UserWarning: Do not pass an `input_shape`/`input_dim` argument to a layer. When using Sequential models, prefer using an `Input(shape)` object as the first layer in the model instead.\n",
      "  super().__init__(activity_regularizer=activity_regularizer, **kwargs)\n"
     ]
    },
    {
     "name": "stdout",
     "output_type": "stream",
     "text": [
      "\u001b[1m40/40\u001b[0m \u001b[32m━━━━━━━━━━━━━━━━━━━━\u001b[0m\u001b[37m\u001b[0m \u001b[1m0s\u001b[0m 4ms/step\n"
     ]
    },
    {
     "name": "stderr",
     "output_type": "stream",
     "text": [
      "[I 2024-12-23 10:03:18,461] Trial 3 finished with value: 0.9460698658300761 and parameters: {'units_layer1': 122, 'dropout_layer1': 0.2992495572940874, 'units_layer2': 84, 'dropout_layer2': 0.4829479100407046, 'units_layer3': 44, 'dropout_layer3': 0.41631687572782183}. Best is trial 1 with value: 0.9512055534895018.\n",
      "/opt/conda/lib/python3.10/site-packages/keras/src/layers/core/dense.py:87: UserWarning: Do not pass an `input_shape`/`input_dim` argument to a layer. When using Sequential models, prefer using an `Input(shape)` object as the first layer in the model instead.\n",
      "  super().__init__(activity_regularizer=activity_regularizer, **kwargs)\n"
     ]
    },
    {
     "name": "stdout",
     "output_type": "stream",
     "text": [
      "\u001b[1m40/40\u001b[0m \u001b[32m━━━━━━━━━━━━━━━━━━━━\u001b[0m\u001b[37m\u001b[0m \u001b[1m0s\u001b[0m 4ms/step\n"
     ]
    },
    {
     "name": "stderr",
     "output_type": "stream",
     "text": [
      "[I 2024-12-23 10:03:31,579] Trial 4 finished with value: 0.9059004911468352 and parameters: {'units_layer1': 73, 'dropout_layer1': 0.2913449943814734, 'units_layer2': 53, 'dropout_layer2': 0.4410182676165263, 'units_layer3': 51, 'dropout_layer3': 0.25563308356783554}. Best is trial 1 with value: 0.9512055534895018.\n",
      "/opt/conda/lib/python3.10/site-packages/keras/src/layers/core/dense.py:87: UserWarning: Do not pass an `input_shape`/`input_dim` argument to a layer. When using Sequential models, prefer using an `Input(shape)` object as the first layer in the model instead.\n",
      "  super().__init__(activity_regularizer=activity_regularizer, **kwargs)\n"
     ]
    },
    {
     "name": "stdout",
     "output_type": "stream",
     "text": [
      "\u001b[1m40/40\u001b[0m \u001b[32m━━━━━━━━━━━━━━━━━━━━\u001b[0m\u001b[37m\u001b[0m \u001b[1m0s\u001b[0m 4ms/step\n"
     ]
    },
    {
     "name": "stderr",
     "output_type": "stream",
     "text": [
      "[I 2024-12-23 10:03:53,694] Trial 5 finished with value: 0.9458063044739959 and parameters: {'units_layer1': 179, 'dropout_layer1': 0.37992525568567803, 'units_layer2': 64, 'dropout_layer2': 0.26889323081603533, 'units_layer3': 52, 'dropout_layer3': 0.25007039767778744}. Best is trial 1 with value: 0.9512055534895018.\n",
      "/opt/conda/lib/python3.10/site-packages/keras/src/layers/core/dense.py:87: UserWarning: Do not pass an `input_shape`/`input_dim` argument to a layer. When using Sequential models, prefer using an `Input(shape)` object as the first layer in the model instead.\n",
      "  super().__init__(activity_regularizer=activity_regularizer, **kwargs)\n"
     ]
    },
    {
     "name": "stdout",
     "output_type": "stream",
     "text": [
      "\u001b[1m40/40\u001b[0m \u001b[32m━━━━━━━━━━━━━━━━━━━━\u001b[0m\u001b[37m\u001b[0m \u001b[1m0s\u001b[0m 4ms/step\n"
     ]
    },
    {
     "name": "stderr",
     "output_type": "stream",
     "text": [
      "[I 2024-12-23 10:04:16,743] Trial 6 finished with value: 0.9471592531115811 and parameters: {'units_layer1': 177, 'dropout_layer1': 0.2151964147129533, 'units_layer2': 49, 'dropout_layer2': 0.3738223634728952, 'units_layer3': 23, 'dropout_layer3': 0.3019599075125118}. Best is trial 1 with value: 0.9512055534895018.\n",
      "/opt/conda/lib/python3.10/site-packages/keras/src/layers/core/dense.py:87: UserWarning: Do not pass an `input_shape`/`input_dim` argument to a layer. When using Sequential models, prefer using an `Input(shape)` object as the first layer in the model instead.\n",
      "  super().__init__(activity_regularizer=activity_regularizer, **kwargs)\n"
     ]
    },
    {
     "name": "stdout",
     "output_type": "stream",
     "text": [
      "\u001b[1m40/40\u001b[0m \u001b[32m━━━━━━━━━━━━━━━━━━━━\u001b[0m\u001b[37m\u001b[0m \u001b[1m0s\u001b[0m 4ms/step\n"
     ]
    },
    {
     "name": "stderr",
     "output_type": "stream",
     "text": [
      "[I 2024-12-23 10:04:35,787] Trial 7 finished with value: 0.9474069621497991 and parameters: {'units_layer1': 175, 'dropout_layer1': 0.268025347254848, 'units_layer2': 63, 'dropout_layer2': 0.27769553008507825, 'units_layer3': 60, 'dropout_layer3': 0.32963208280000855}. Best is trial 1 with value: 0.9512055534895018.\n",
      "/opt/conda/lib/python3.10/site-packages/keras/src/layers/core/dense.py:87: UserWarning: Do not pass an `input_shape`/`input_dim` argument to a layer. When using Sequential models, prefer using an `Input(shape)` object as the first layer in the model instead.\n",
      "  super().__init__(activity_regularizer=activity_regularizer, **kwargs)\n"
     ]
    },
    {
     "name": "stdout",
     "output_type": "stream",
     "text": [
      "\u001b[1m40/40\u001b[0m \u001b[32m━━━━━━━━━━━━━━━━━━━━\u001b[0m\u001b[37m\u001b[0m \u001b[1m0s\u001b[0m 4ms/step\n"
     ]
    },
    {
     "name": "stderr",
     "output_type": "stream",
     "text": [
      "[I 2024-12-23 10:04:56,697] Trial 8 finished with value: 0.9372819090367381 and parameters: {'units_layer1': 94, 'dropout_layer1': 0.22778845978883996, 'units_layer2': 91, 'dropout_layer2': 0.4881904388399286, 'units_layer3': 35, 'dropout_layer3': 0.26777726523409223}. Best is trial 1 with value: 0.9512055534895018.\n",
      "/opt/conda/lib/python3.10/site-packages/keras/src/layers/core/dense.py:87: UserWarning: Do not pass an `input_shape`/`input_dim` argument to a layer. When using Sequential models, prefer using an `Input(shape)` object as the first layer in the model instead.\n",
      "  super().__init__(activity_regularizer=activity_regularizer, **kwargs)\n"
     ]
    },
    {
     "name": "stdout",
     "output_type": "stream",
     "text": [
      "\u001b[1m40/40\u001b[0m \u001b[32m━━━━━━━━━━━━━━━━━━━━\u001b[0m\u001b[37m\u001b[0m \u001b[1m0s\u001b[0m 4ms/step\n"
     ]
    },
    {
     "name": "stderr",
     "output_type": "stream",
     "text": [
      "[I 2024-12-23 10:05:20,378] Trial 9 finished with value: 0.9476114649731885 and parameters: {'units_layer1': 231, 'dropout_layer1': 0.21550222304650057, 'units_layer2': 37, 'dropout_layer2': 0.465815652340955, 'units_layer3': 48, 'dropout_layer3': 0.38518781776456457}. Best is trial 1 with value: 0.9512055534895018.\n",
      "/opt/conda/lib/python3.10/site-packages/keras/src/layers/core/dense.py:87: UserWarning: Do not pass an `input_shape`/`input_dim` argument to a layer. When using Sequential models, prefer using an `Input(shape)` object as the first layer in the model instead.\n",
      "  super().__init__(activity_regularizer=activity_regularizer, **kwargs)\n"
     ]
    },
    {
     "name": "stdout",
     "output_type": "stream",
     "text": [
      "\u001b[1m40/40\u001b[0m \u001b[32m━━━━━━━━━━━━━━━━━━━━\u001b[0m\u001b[37m\u001b[0m \u001b[1m0s\u001b[0m 4ms/step\n"
     ]
    },
    {
     "name": "stderr",
     "output_type": "stream",
     "text": [
      "[I 2024-12-23 10:05:49,118] Trial 10 finished with value: 0.9530333191562178 and parameters: {'units_layer1': 236, 'dropout_layer1': 0.47439234797983726, 'units_layer2': 106, 'dropout_layer2': 0.3634176955707107, 'units_layer3': 36, 'dropout_layer3': 0.2199852270140346}. Best is trial 10 with value: 0.9530333191562178.\n",
      "/opt/conda/lib/python3.10/site-packages/keras/src/layers/core/dense.py:87: UserWarning: Do not pass an `input_shape`/`input_dim` argument to a layer. When using Sequential models, prefer using an `Input(shape)` object as the first layer in the model instead.\n",
      "  super().__init__(activity_regularizer=activity_regularizer, **kwargs)\n"
     ]
    },
    {
     "name": "stdout",
     "output_type": "stream",
     "text": [
      "\u001b[1m40/40\u001b[0m \u001b[32m━━━━━━━━━━━━━━━━━━━━\u001b[0m\u001b[37m\u001b[0m \u001b[1m0s\u001b[0m 4ms/step\n"
     ]
    },
    {
     "name": "stderr",
     "output_type": "stream",
     "text": [
      "[I 2024-12-23 10:06:13,082] Trial 11 finished with value: 0.9497402031380271 and parameters: {'units_layer1': 251, 'dropout_layer1': 0.4749717591173499, 'units_layer2': 108, 'dropout_layer2': 0.3600789438213635, 'units_layer3': 35, 'dropout_layer3': 0.20056488281390977}. Best is trial 10 with value: 0.9530333191562178.\n",
      "/opt/conda/lib/python3.10/site-packages/keras/src/layers/core/dense.py:87: UserWarning: Do not pass an `input_shape`/`input_dim` argument to a layer. When using Sequential models, prefer using an `Input(shape)` object as the first layer in the model instead.\n",
      "  super().__init__(activity_regularizer=activity_regularizer, **kwargs)\n"
     ]
    },
    {
     "name": "stdout",
     "output_type": "stream",
     "text": [
      "\u001b[1m40/40\u001b[0m \u001b[32m━━━━━━━━━━━━━━━━━━━━\u001b[0m\u001b[37m\u001b[0m \u001b[1m0s\u001b[0m 4ms/step\n"
     ]
    },
    {
     "name": "stderr",
     "output_type": "stream",
     "text": [
      "[I 2024-12-23 10:06:37,643] Trial 12 finished with value: 0.9438328667332276 and parameters: {'units_layer1': 217, 'dropout_layer1': 0.4789321776930272, 'units_layer2': 100, 'dropout_layer2': 0.4067550423334947, 'units_layer3': 36, 'dropout_layer3': 0.20622394146239875}. Best is trial 10 with value: 0.9530333191562178.\n",
      "/opt/conda/lib/python3.10/site-packages/keras/src/layers/core/dense.py:87: UserWarning: Do not pass an `input_shape`/`input_dim` argument to a layer. When using Sequential models, prefer using an `Input(shape)` object as the first layer in the model instead.\n",
      "  super().__init__(activity_regularizer=activity_regularizer, **kwargs)\n"
     ]
    },
    {
     "name": "stdout",
     "output_type": "stream",
     "text": [
      "\u001b[1m40/40\u001b[0m \u001b[32m━━━━━━━━━━━━━━━━━━━━\u001b[0m\u001b[37m\u001b[0m \u001b[1m0s\u001b[0m 4ms/step\n"
     ]
    },
    {
     "name": "stderr",
     "output_type": "stream",
     "text": [
      "[I 2024-12-23 10:07:03,784] Trial 13 finished with value: 0.9534911424727053 and parameters: {'units_layer1': 207, 'dropout_layer1': 0.40672725131758397, 'units_layer2': 126, 'dropout_layer2': 0.3181365662935381, 'units_layer3': 29, 'dropout_layer3': 0.2873017388858619}. Best is trial 13 with value: 0.9534911424727053.\n",
      "/opt/conda/lib/python3.10/site-packages/keras/src/layers/core/dense.py:87: UserWarning: Do not pass an `input_shape`/`input_dim` argument to a layer. When using Sequential models, prefer using an `Input(shape)` object as the first layer in the model instead.\n",
      "  super().__init__(activity_regularizer=activity_regularizer, **kwargs)\n"
     ]
    },
    {
     "name": "stdout",
     "output_type": "stream",
     "text": [
      "\u001b[1m40/40\u001b[0m \u001b[32m━━━━━━━━━━━━━━━━━━━━\u001b[0m\u001b[37m\u001b[0m \u001b[1m0s\u001b[0m 4ms/step\n"
     ]
    },
    {
     "name": "stderr",
     "output_type": "stream",
     "text": [
      "[I 2024-12-23 10:07:24,458] Trial 14 finished with value: 0.9459761866942378 and parameters: {'units_layer1': 208, 'dropout_layer1': 0.4287699222854479, 'units_layer2': 121, 'dropout_layer2': 0.31268528015455205, 'units_layer3': 28, 'dropout_layer3': 0.29984990528431116}. Best is trial 13 with value: 0.9534911424727053.\n",
      "/opt/conda/lib/python3.10/site-packages/keras/src/layers/core/dense.py:87: UserWarning: Do not pass an `input_shape`/`input_dim` argument to a layer. When using Sequential models, prefer using an `Input(shape)` object as the first layer in the model instead.\n",
      "  super().__init__(activity_regularizer=activity_regularizer, **kwargs)\n"
     ]
    },
    {
     "name": "stdout",
     "output_type": "stream",
     "text": [
      "\u001b[1m40/40\u001b[0m \u001b[32m━━━━━━━━━━━━━━━━━━━━\u001b[0m\u001b[37m\u001b[0m \u001b[1m0s\u001b[0m 4ms/step\n"
     ]
    },
    {
     "name": "stderr",
     "output_type": "stream",
     "text": [
      "[I 2024-12-23 10:07:44,066] Trial 15 finished with value: 0.9415375445394569 and parameters: {'units_layer1': 255, 'dropout_layer1': 0.43449398695383457, 'units_layer2': 128, 'dropout_layer2': 0.20092227381412528, 'units_layer3': 17, 'dropout_layer3': 0.49376522690158076}. Best is trial 13 with value: 0.9534911424727053.\n",
      "/opt/conda/lib/python3.10/site-packages/keras/src/layers/core/dense.py:87: UserWarning: Do not pass an `input_shape`/`input_dim` argument to a layer. When using Sequential models, prefer using an `Input(shape)` object as the first layer in the model instead.\n",
      "  super().__init__(activity_regularizer=activity_regularizer, **kwargs)\n"
     ]
    },
    {
     "name": "stdout",
     "output_type": "stream",
     "text": [
      "\u001b[1m40/40\u001b[0m \u001b[32m━━━━━━━━━━━━━━━━━━━━\u001b[0m\u001b[37m\u001b[0m \u001b[1m0s\u001b[0m 4ms/step\n"
     ]
    },
    {
     "name": "stderr",
     "output_type": "stream",
     "text": [
      "[I 2024-12-23 10:08:08,078] Trial 16 finished with value: 0.9513317647949082 and parameters: {'units_layer1': 202, 'dropout_layer1': 0.34064009360191555, 'units_layer2': 108, 'dropout_layer2': 0.33111497548634505, 'units_layer3': 28, 'dropout_layer3': 0.31104659356811304}. Best is trial 13 with value: 0.9534911424727053.\n",
      "/opt/conda/lib/python3.10/site-packages/keras/src/layers/core/dense.py:87: UserWarning: Do not pass an `input_shape`/`input_dim` argument to a layer. When using Sequential models, prefer using an `Input(shape)` object as the first layer in the model instead.\n",
      "  super().__init__(activity_regularizer=activity_regularizer, **kwargs)\n"
     ]
    },
    {
     "name": "stdout",
     "output_type": "stream",
     "text": [
      "\u001b[1m40/40\u001b[0m \u001b[32m━━━━━━━━━━━━━━━━━━━━\u001b[0m\u001b[37m\u001b[0m \u001b[1m0s\u001b[0m 4ms/step\n"
     ]
    },
    {
     "name": "stderr",
     "output_type": "stream",
     "text": [
      "[I 2024-12-23 10:08:29,664] Trial 17 finished with value: 0.9404217081573829 and parameters: {'units_layer1': 233, 'dropout_layer1': 0.49447741627080616, 'units_layer2': 110, 'dropout_layer2': 0.31015094364791473, 'units_layer3': 31, 'dropout_layer3': 0.22821113474079352}. Best is trial 13 with value: 0.9534911424727053.\n",
      "/opt/conda/lib/python3.10/site-packages/keras/src/layers/core/dense.py:87: UserWarning: Do not pass an `input_shape`/`input_dim` argument to a layer. When using Sequential models, prefer using an `Input(shape)` object as the first layer in the model instead.\n",
      "  super().__init__(activity_regularizer=activity_regularizer, **kwargs)\n"
     ]
    },
    {
     "name": "stdout",
     "output_type": "stream",
     "text": [
      "\u001b[1m40/40\u001b[0m \u001b[32m━━━━━━━━━━━━━━━━━━━━\u001b[0m\u001b[37m\u001b[0m \u001b[1m0s\u001b[0m 3ms/step\n"
     ]
    },
    {
     "name": "stderr",
     "output_type": "stream",
     "text": [
      "[I 2024-12-23 10:08:56,141] Trial 18 finished with value: 0.9461909134573396 and parameters: {'units_layer1': 195, 'dropout_layer1': 0.44662593693828306, 'units_layer2': 91, 'dropout_layer2': 0.4276931984101845, 'units_layer3': 41, 'dropout_layer3': 0.2834971062144993}. Best is trial 13 with value: 0.9534911424727053.\n",
      "/opt/conda/lib/python3.10/site-packages/keras/src/layers/core/dense.py:87: UserWarning: Do not pass an `input_shape`/`input_dim` argument to a layer. When using Sequential models, prefer using an `Input(shape)` object as the first layer in the model instead.\n",
      "  super().__init__(activity_regularizer=activity_regularizer, **kwargs)\n"
     ]
    },
    {
     "name": "stdout",
     "output_type": "stream",
     "text": [
      "\u001b[1m40/40\u001b[0m \u001b[32m━━━━━━━━━━━━━━━━━━━━\u001b[0m\u001b[37m\u001b[0m \u001b[1m0s\u001b[0m 4ms/step\n"
     ]
    },
    {
     "name": "stderr",
     "output_type": "stream",
     "text": [
      "[I 2024-12-23 10:09:21,806] Trial 19 finished with value: 0.9525825744683055 and parameters: {'units_layer1': 232, 'dropout_layer1': 0.35379355124708245, 'units_layer2': 117, 'dropout_layer2': 0.40129704853881304, 'units_layer3': 22, 'dropout_layer3': 0.231466311032113}. Best is trial 13 with value: 0.9534911424727053.\n",
      "/opt/conda/lib/python3.10/site-packages/keras/src/layers/core/dense.py:87: UserWarning: Do not pass an `input_shape`/`input_dim` argument to a layer. When using Sequential models, prefer using an `Input(shape)` object as the first layer in the model instead.\n",
      "  super().__init__(activity_regularizer=activity_regularizer, **kwargs)\n"
     ]
    },
    {
     "name": "stdout",
     "output_type": "stream",
     "text": [
      "\u001b[1m40/40\u001b[0m \u001b[32m━━━━━━━━━━━━━━━━━━━━\u001b[0m\u001b[37m\u001b[0m \u001b[1m0s\u001b[0m 4ms/step\n"
     ]
    },
    {
     "name": "stderr",
     "output_type": "stream",
     "text": [
      "[I 2024-12-23 10:09:43,302] Trial 20 finished with value: 0.9402012519470422 and parameters: {'units_layer1': 192, 'dropout_layer1': 0.39956798749697664, 'units_layer2': 99, 'dropout_layer2': 0.33578482593058806, 'units_layer3': 16, 'dropout_layer3': 0.3410189157746285}. Best is trial 13 with value: 0.9534911424727053.\n",
      "/opt/conda/lib/python3.10/site-packages/keras/src/layers/core/dense.py:87: UserWarning: Do not pass an `input_shape`/`input_dim` argument to a layer. When using Sequential models, prefer using an `Input(shape)` object as the first layer in the model instead.\n",
      "  super().__init__(activity_regularizer=activity_regularizer, **kwargs)\n"
     ]
    },
    {
     "name": "stdout",
     "output_type": "stream",
     "text": [
      "\u001b[1m40/40\u001b[0m \u001b[32m━━━━━━━━━━━━━━━━━━━━\u001b[0m\u001b[37m\u001b[0m \u001b[1m0s\u001b[0m 4ms/step\n"
     ]
    },
    {
     "name": "stderr",
     "output_type": "stream",
     "text": [
      "[I 2024-12-23 10:10:03,712] Trial 21 finished with value: 0.9498152113885043 and parameters: {'units_layer1': 223, 'dropout_layer1': 0.3425974745658753, 'units_layer2': 128, 'dropout_layer2': 0.3944024595821115, 'units_layer3': 23, 'dropout_layer3': 0.2257640677966371}. Best is trial 13 with value: 0.9534911424727053.\n",
      "/opt/conda/lib/python3.10/site-packages/keras/src/layers/core/dense.py:87: UserWarning: Do not pass an `input_shape`/`input_dim` argument to a layer. When using Sequential models, prefer using an `Input(shape)` object as the first layer in the model instead.\n",
      "  super().__init__(activity_regularizer=activity_regularizer, **kwargs)\n"
     ]
    },
    {
     "name": "stdout",
     "output_type": "stream",
     "text": [
      "\u001b[1m40/40\u001b[0m \u001b[32m━━━━━━━━━━━━━━━━━━━━\u001b[0m\u001b[37m\u001b[0m \u001b[1m0s\u001b[0m 4ms/step\n"
     ]
    },
    {
     "name": "stderr",
     "output_type": "stream",
     "text": [
      "[I 2024-12-23 10:10:28,835] Trial 22 finished with value: 0.9521511039661199 and parameters: {'units_layer1': 239, 'dropout_layer1': 0.3719070380878578, 'units_layer2': 119, 'dropout_layer2': 0.40329458942760166, 'units_layer3': 30, 'dropout_layer3': 0.22878778148686513}. Best is trial 13 with value: 0.9534911424727053.\n",
      "/opt/conda/lib/python3.10/site-packages/keras/src/layers/core/dense.py:87: UserWarning: Do not pass an `input_shape`/`input_dim` argument to a layer. When using Sequential models, prefer using an `Input(shape)` object as the first layer in the model instead.\n",
      "  super().__init__(activity_regularizer=activity_regularizer, **kwargs)\n"
     ]
    },
    {
     "name": "stdout",
     "output_type": "stream",
     "text": [
      "\u001b[1m40/40\u001b[0m \u001b[32m━━━━━━━━━━━━━━━━━━━━\u001b[0m\u001b[37m\u001b[0m \u001b[1m0s\u001b[0m 4ms/step\n"
     ]
    },
    {
     "name": "stderr",
     "output_type": "stream",
     "text": [
      "[I 2024-12-23 10:10:52,881] Trial 23 finished with value: 0.9561889526808868 and parameters: {'units_layer1': 244, 'dropout_layer1': 0.32182669481017784, 'units_layer2': 114, 'dropout_layer2': 0.30322722507991995, 'units_layer3': 20, 'dropout_layer3': 0.2794641722359693}. Best is trial 23 with value: 0.9561889526808868.\n",
      "/opt/conda/lib/python3.10/site-packages/keras/src/layers/core/dense.py:87: UserWarning: Do not pass an `input_shape`/`input_dim` argument to a layer. When using Sequential models, prefer using an `Input(shape)` object as the first layer in the model instead.\n",
      "  super().__init__(activity_regularizer=activity_regularizer, **kwargs)\n"
     ]
    },
    {
     "name": "stdout",
     "output_type": "stream",
     "text": [
      "\u001b[1m40/40\u001b[0m \u001b[32m━━━━━━━━━━━━━━━━━━━━\u001b[0m\u001b[37m\u001b[0m \u001b[1m0s\u001b[0m 4ms/step\n"
     ]
    },
    {
     "name": "stderr",
     "output_type": "stream",
     "text": [
      "[I 2024-12-23 10:11:18,635] Trial 24 finished with value: 0.9488855235167586 and parameters: {'units_layer1': 244, 'dropout_layer1': 0.4564848554719924, 'units_layer2': 78, 'dropout_layer2': 0.29123512479107966, 'units_layer3': 26, 'dropout_layer3': 0.2812015276290436}. Best is trial 23 with value: 0.9561889526808868.\n",
      "/opt/conda/lib/python3.10/site-packages/keras/src/layers/core/dense.py:87: UserWarning: Do not pass an `input_shape`/`input_dim` argument to a layer. When using Sequential models, prefer using an `Input(shape)` object as the first layer in the model instead.\n",
      "  super().__init__(activity_regularizer=activity_regularizer, **kwargs)\n"
     ]
    },
    {
     "name": "stdout",
     "output_type": "stream",
     "text": [
      "\u001b[1m40/40\u001b[0m \u001b[32m━━━━━━━━━━━━━━━━━━━━\u001b[0m\u001b[37m\u001b[0m \u001b[1m0s\u001b[0m 4ms/step\n"
     ]
    },
    {
     "name": "stderr",
     "output_type": "stream",
     "text": [
      "[I 2024-12-23 10:11:42,253] Trial 25 finished with value: 0.9590542585819345 and parameters: {'units_layer1': 215, 'dropout_layer1': 0.31918802696381093, 'units_layer2': 113, 'dropout_layer2': 0.23456367309382886, 'units_layer3': 33, 'dropout_layer3': 0.3248957492164867}. Best is trial 25 with value: 0.9590542585819345.\n",
      "/opt/conda/lib/python3.10/site-packages/keras/src/layers/core/dense.py:87: UserWarning: Do not pass an `input_shape`/`input_dim` argument to a layer. When using Sequential models, prefer using an `Input(shape)` object as the first layer in the model instead.\n",
      "  super().__init__(activity_regularizer=activity_regularizer, **kwargs)\n"
     ]
    },
    {
     "name": "stdout",
     "output_type": "stream",
     "text": [
      "\u001b[1m40/40\u001b[0m \u001b[32m━━━━━━━━━━━━━━━━━━━━\u001b[0m\u001b[37m\u001b[0m \u001b[1m0s\u001b[0m 4ms/step\n"
     ]
    },
    {
     "name": "stderr",
     "output_type": "stream",
     "text": [
      "[I 2024-12-23 10:12:01,114] Trial 26 finished with value: 0.9494438375053289 and parameters: {'units_layer1': 212, 'dropout_layer1': 0.31614170670542313, 'units_layer2': 114, 'dropout_layer2': 0.23046598152768127, 'units_layer3': 33, 'dropout_layer3': 0.36757706290784686}. Best is trial 25 with value: 0.9590542585819345.\n",
      "/opt/conda/lib/python3.10/site-packages/keras/src/layers/core/dense.py:87: UserWarning: Do not pass an `input_shape`/`input_dim` argument to a layer. When using Sequential models, prefer using an `Input(shape)` object as the first layer in the model instead.\n",
      "  super().__init__(activity_regularizer=activity_regularizer, **kwargs)\n"
     ]
    },
    {
     "name": "stdout",
     "output_type": "stream",
     "text": [
      "\u001b[1m40/40\u001b[0m \u001b[32m━━━━━━━━━━━━━━━━━━━━\u001b[0m\u001b[37m\u001b[0m \u001b[1m0s\u001b[0m 4ms/step\n"
     ]
    },
    {
     "name": "stderr",
     "output_type": "stream",
     "text": [
      "[I 2024-12-23 10:12:19,486] Trial 27 finished with value: 0.9513967868946924 and parameters: {'units_layer1': 189, 'dropout_layer1': 0.25476266700194355, 'units_layer2': 100, 'dropout_layer2': 0.21214934749270795, 'units_layer3': 19, 'dropout_layer3': 0.3222027112544634}. Best is trial 25 with value: 0.9590542585819345.\n",
      "/opt/conda/lib/python3.10/site-packages/keras/src/layers/core/dense.py:87: UserWarning: Do not pass an `input_shape`/`input_dim` argument to a layer. When using Sequential models, prefer using an `Input(shape)` object as the first layer in the model instead.\n",
      "  super().__init__(activity_regularizer=activity_regularizer, **kwargs)\n"
     ]
    },
    {
     "name": "stdout",
     "output_type": "stream",
     "text": [
      "\u001b[1m40/40\u001b[0m \u001b[32m━━━━━━━━━━━━━━━━━━━━\u001b[0m\u001b[37m\u001b[0m \u001b[1m0s\u001b[0m 4ms/step\n"
     ]
    },
    {
     "name": "stderr",
     "output_type": "stream",
     "text": [
      "[I 2024-12-23 10:12:35,190] Trial 28 finished with value: 0.9401960456227084 and parameters: {'units_layer1': 216, 'dropout_layer1': 0.3185588665245838, 'units_layer2': 128, 'dropout_layer2': 0.29236919337315576, 'units_layer3': 25, 'dropout_layer3': 0.39420629649865463}. Best is trial 25 with value: 0.9590542585819345.\n",
      "/opt/conda/lib/python3.10/site-packages/keras/src/layers/core/dense.py:87: UserWarning: Do not pass an `input_shape`/`input_dim` argument to a layer. When using Sequential models, prefer using an `Input(shape)` object as the first layer in the model instead.\n",
      "  super().__init__(activity_regularizer=activity_regularizer, **kwargs)\n"
     ]
    },
    {
     "name": "stdout",
     "output_type": "stream",
     "text": [
      "\u001b[1m40/40\u001b[0m \u001b[32m━━━━━━━━━━━━━━━━━━━━\u001b[0m\u001b[37m\u001b[0m \u001b[1m0s\u001b[0m 4ms/step\n"
     ]
    },
    {
     "name": "stderr",
     "output_type": "stream",
     "text": [
      "[I 2024-12-23 10:12:54,634] Trial 29 finished with value: 0.9525487170228979 and parameters: {'units_layer1': 255, 'dropout_layer1': 0.3180668999674119, 'units_layer2': 75, 'dropout_layer2': 0.24461514735650652, 'units_layer3': 64, 'dropout_layer3': 0.35027418553134093}. Best is trial 25 with value: 0.9590542585819345.\n",
      "/opt/conda/lib/python3.10/site-packages/keras/src/layers/core/dense.py:87: UserWarning: Do not pass an `input_shape`/`input_dim` argument to a layer. When using Sequential models, prefer using an `Input(shape)` object as the first layer in the model instead.\n",
      "  super().__init__(activity_regularizer=activity_regularizer, **kwargs)\n"
     ]
    },
    {
     "name": "stdout",
     "output_type": "stream",
     "text": [
      "\u001b[1m40/40\u001b[0m \u001b[32m━━━━━━━━━━━━━━━━━━━━\u001b[0m\u001b[37m\u001b[0m \u001b[1m0s\u001b[0m 4ms/step\n"
     ]
    },
    {
     "name": "stderr",
     "output_type": "stream",
     "text": [
      "[I 2024-12-23 10:13:12,496] Trial 30 finished with value: 0.941031238196244 and parameters: {'units_layer1': 152, 'dropout_layer1': 0.40873858675189123, 'units_layer2': 92, 'dropout_layer2': 0.24601313978180506, 'units_layer3': 39, 'dropout_layer3': 0.28295650195687044}. Best is trial 25 with value: 0.9590542585819345.\n",
      "/opt/conda/lib/python3.10/site-packages/keras/src/layers/core/dense.py:87: UserWarning: Do not pass an `input_shape`/`input_dim` argument to a layer. When using Sequential models, prefer using an `Input(shape)` object as the first layer in the model instead.\n",
      "  super().__init__(activity_regularizer=activity_regularizer, **kwargs)\n"
     ]
    },
    {
     "name": "stdout",
     "output_type": "stream",
     "text": [
      "\u001b[1m40/40\u001b[0m \u001b[32m━━━━━━━━━━━━━━━━━━━━\u001b[0m\u001b[37m\u001b[0m \u001b[1m0s\u001b[0m 4ms/step\n"
     ]
    },
    {
     "name": "stderr",
     "output_type": "stream",
     "text": [
      "[I 2024-12-23 10:13:32,871] Trial 31 finished with value: 0.9467516026926441 and parameters: {'units_layer1': 226, 'dropout_layer1': 0.36605171258271363, 'units_layer2': 111, 'dropout_layer2': 0.345526163628462, 'units_layer3': 38, 'dropout_layer3': 0.2987604000961099}. Best is trial 25 with value: 0.9590542585819345.\n",
      "/opt/conda/lib/python3.10/site-packages/keras/src/layers/core/dense.py:87: UserWarning: Do not pass an `input_shape`/`input_dim` argument to a layer. When using Sequential models, prefer using an `Input(shape)` object as the first layer in the model instead.\n",
      "  super().__init__(activity_regularizer=activity_regularizer, **kwargs)\n"
     ]
    },
    {
     "name": "stdout",
     "output_type": "stream",
     "text": [
      "\u001b[1m40/40\u001b[0m \u001b[32m━━━━━━━━━━━━━━━━━━━━\u001b[0m\u001b[37m\u001b[0m \u001b[1m0s\u001b[0m 4ms/step\n"
     ]
    },
    {
     "name": "stderr",
     "output_type": "stream",
     "text": [
      "[I 2024-12-23 10:13:56,486] Trial 32 finished with value: 0.9506345047424085 and parameters: {'units_layer1': 242, 'dropout_layer1': 0.415081712161184, 'units_layer2': 104, 'dropout_layer2': 0.3178888572105608, 'units_layer3': 31, 'dropout_layer3': 0.26845297007061786}. Best is trial 25 with value: 0.9590542585819345.\n",
      "/opt/conda/lib/python3.10/site-packages/keras/src/layers/core/dense.py:87: UserWarning: Do not pass an `input_shape`/`input_dim` argument to a layer. When using Sequential models, prefer using an `Input(shape)` object as the first layer in the model instead.\n",
      "  super().__init__(activity_regularizer=activity_regularizer, **kwargs)\n"
     ]
    },
    {
     "name": "stdout",
     "output_type": "stream",
     "text": [
      "\u001b[1m40/40\u001b[0m \u001b[32m━━━━━━━━━━━━━━━━━━━━\u001b[0m\u001b[37m\u001b[0m \u001b[1m0s\u001b[0m 4ms/step\n"
     ]
    },
    {
     "name": "stderr",
     "output_type": "stream",
     "text": [
      "[I 2024-12-23 10:14:14,464] Trial 33 finished with value: 0.946976433044612 and parameters: {'units_layer1': 203, 'dropout_layer1': 0.38299576409901154, 'units_layer2': 121, 'dropout_layer2': 0.3018274501407652, 'units_layer3': 42, 'dropout_layer3': 0.2474542065044669}. Best is trial 25 with value: 0.9590542585819345.\n",
      "/opt/conda/lib/python3.10/site-packages/keras/src/layers/core/dense.py:87: UserWarning: Do not pass an `input_shape`/`input_dim` argument to a layer. When using Sequential models, prefer using an `Input(shape)` object as the first layer in the model instead.\n",
      "  super().__init__(activity_regularizer=activity_regularizer, **kwargs)\n"
     ]
    },
    {
     "name": "stdout",
     "output_type": "stream",
     "text": [
      "\u001b[1m40/40\u001b[0m \u001b[32m━━━━━━━━━━━━━━━━━━━━\u001b[0m\u001b[37m\u001b[0m \u001b[1m0s\u001b[0m 4ms/step\n"
     ]
    },
    {
     "name": "stderr",
     "output_type": "stream",
     "text": [
      "[I 2024-12-23 10:14:36,141] Trial 34 finished with value: 0.9454757563258778 and parameters: {'units_layer1': 161, 'dropout_layer1': 0.33233198870238917, 'units_layer2': 114, 'dropout_layer2': 0.37346639674090537, 'units_layer3': 45, 'dropout_layer3': 0.31907700944430295}. Best is trial 25 with value: 0.9590542585819345.\n",
      "/opt/conda/lib/python3.10/site-packages/keras/src/layers/core/dense.py:87: UserWarning: Do not pass an `input_shape`/`input_dim` argument to a layer. When using Sequential models, prefer using an `Input(shape)` object as the first layer in the model instead.\n",
      "  super().__init__(activity_regularizer=activity_regularizer, **kwargs)\n"
     ]
    },
    {
     "name": "stdout",
     "output_type": "stream",
     "text": [
      "\u001b[1m40/40\u001b[0m \u001b[32m━━━━━━━━━━━━━━━━━━━━\u001b[0m\u001b[37m\u001b[0m \u001b[1m0s\u001b[0m 4ms/step\n"
     ]
    },
    {
     "name": "stderr",
     "output_type": "stream",
     "text": [
      "[I 2024-12-23 10:15:00,536] Trial 35 finished with value: 0.9556020072672137 and parameters: {'units_layer1': 219, 'dropout_layer1': 0.28646795712309486, 'units_layer2': 122, 'dropout_layer2': 0.2673293552998691, 'units_layer3': 20, 'dropout_layer3': 0.43998477980421075}. Best is trial 25 with value: 0.9590542585819345.\n",
      "/opt/conda/lib/python3.10/site-packages/keras/src/layers/core/dense.py:87: UserWarning: Do not pass an `input_shape`/`input_dim` argument to a layer. When using Sequential models, prefer using an `Input(shape)` object as the first layer in the model instead.\n",
      "  super().__init__(activity_regularizer=activity_regularizer, **kwargs)\n"
     ]
    },
    {
     "name": "stdout",
     "output_type": "stream",
     "text": [
      "\u001b[1m40/40\u001b[0m \u001b[32m━━━━━━━━━━━━━━━━━━━━\u001b[0m\u001b[37m\u001b[0m \u001b[1m0s\u001b[0m 4ms/step\n"
     ]
    },
    {
     "name": "stderr",
     "output_type": "stream",
     "text": [
      "[I 2024-12-23 10:15:24,568] Trial 36 finished with value: 0.9450571216829651 and parameters: {'units_layer1': 133, 'dropout_layer1': 0.27629478531928, 'units_layer2': 122, 'dropout_layer2': 0.2652836666191173, 'units_layer3': 18, 'dropout_layer3': 0.4219251722118865}. Best is trial 25 with value: 0.9590542585819345.\n",
      "/opt/conda/lib/python3.10/site-packages/keras/src/layers/core/dense.py:87: UserWarning: Do not pass an `input_shape`/`input_dim` argument to a layer. When using Sequential models, prefer using an `Input(shape)` object as the first layer in the model instead.\n",
      "  super().__init__(activity_regularizer=activity_regularizer, **kwargs)\n"
     ]
    },
    {
     "name": "stdout",
     "output_type": "stream",
     "text": [
      "\u001b[1m40/40\u001b[0m \u001b[32m━━━━━━━━━━━━━━━━━━━━\u001b[0m\u001b[37m\u001b[0m \u001b[1m0s\u001b[0m 4ms/step\n"
     ]
    },
    {
     "name": "stderr",
     "output_type": "stream",
     "text": [
      "[I 2024-12-23 10:15:42,387] Trial 37 finished with value: 0.9428553911413506 and parameters: {'units_layer1': 184, 'dropout_layer1': 0.2985243901261061, 'units_layer2': 123, 'dropout_layer2': 0.22683486038022396, 'units_layer3': 20, 'dropout_layer3': 0.4802191354219252}. Best is trial 25 with value: 0.9590542585819345.\n",
      "/opt/conda/lib/python3.10/site-packages/keras/src/layers/core/dense.py:87: UserWarning: Do not pass an `input_shape`/`input_dim` argument to a layer. When using Sequential models, prefer using an `Input(shape)` object as the first layer in the model instead.\n",
      "  super().__init__(activity_regularizer=activity_regularizer, **kwargs)\n"
     ]
    },
    {
     "name": "stdout",
     "output_type": "stream",
     "text": [
      "\u001b[1m40/40\u001b[0m \u001b[32m━━━━━━━━━━━━━━━━━━━━\u001b[0m\u001b[37m\u001b[0m \u001b[1m0s\u001b[0m 4ms/step\n"
     ]
    },
    {
     "name": "stderr",
     "output_type": "stream",
     "text": [
      "[I 2024-12-23 10:15:59,985] Trial 38 finished with value: 0.9449176462345756 and parameters: {'units_layer1': 170, 'dropout_layer1': 0.24933434536736138, 'units_layer2': 116, 'dropout_layer2': 0.27646244075721016, 'units_layer3': 26, 'dropout_layer3': 0.4487255913995327}. Best is trial 25 with value: 0.9590542585819345.\n",
      "/opt/conda/lib/python3.10/site-packages/keras/src/layers/core/dense.py:87: UserWarning: Do not pass an `input_shape`/`input_dim` argument to a layer. When using Sequential models, prefer using an `Input(shape)` object as the first layer in the model instead.\n",
      "  super().__init__(activity_regularizer=activity_regularizer, **kwargs)\n"
     ]
    },
    {
     "name": "stdout",
     "output_type": "stream",
     "text": [
      "\u001b[1m40/40\u001b[0m \u001b[32m━━━━━━━━━━━━━━━━━━━━\u001b[0m\u001b[37m\u001b[0m \u001b[1m0s\u001b[0m 4ms/step\n"
     ]
    },
    {
     "name": "stderr",
     "output_type": "stream",
     "text": [
      "[I 2024-12-23 10:16:23,918] Trial 39 finished with value: 0.9461391991313113 and parameters: {'units_layer1': 106, 'dropout_layer1': 0.28138225259212146, 'units_layer2': 85, 'dropout_layer2': 0.25573789265502656, 'units_layer3': 21, 'dropout_layer3': 0.3566427275291314}. Best is trial 25 with value: 0.9590542585819345.\n",
      "/opt/conda/lib/python3.10/site-packages/keras/src/layers/core/dense.py:87: UserWarning: Do not pass an `input_shape`/`input_dim` argument to a layer. When using Sequential models, prefer using an `Input(shape)` object as the first layer in the model instead.\n",
      "  super().__init__(activity_regularizer=activity_regularizer, **kwargs)\n"
     ]
    },
    {
     "name": "stdout",
     "output_type": "stream",
     "text": [
      "\u001b[1m40/40\u001b[0m \u001b[32m━━━━━━━━━━━━━━━━━━━━\u001b[0m\u001b[37m\u001b[0m \u001b[1m0s\u001b[0m 4ms/step\n"
     ]
    },
    {
     "name": "stderr",
     "output_type": "stream",
     "text": [
      "[I 2024-12-23 10:16:45,662] Trial 40 finished with value: 0.9428086224517133 and parameters: {'units_layer1': 64, 'dropout_layer1': 0.23715425204885648, 'units_layer2': 96, 'dropout_layer2': 0.2254994018977624, 'units_layer3': 25, 'dropout_layer3': 0.33469731117482915}. Best is trial 25 with value: 0.9590542585819345.\n",
      "/opt/conda/lib/python3.10/site-packages/keras/src/layers/core/dense.py:87: UserWarning: Do not pass an `input_shape`/`input_dim` argument to a layer. When using Sequential models, prefer using an `Input(shape)` object as the first layer in the model instead.\n",
      "  super().__init__(activity_regularizer=activity_regularizer, **kwargs)\n"
     ]
    },
    {
     "name": "stdout",
     "output_type": "stream",
     "text": [
      "\u001b[1m40/40\u001b[0m \u001b[32m━━━━━━━━━━━━━━━━━━━━\u001b[0m\u001b[37m\u001b[0m \u001b[1m0s\u001b[0m 5ms/step\n"
     ]
    },
    {
     "name": "stderr",
     "output_type": "stream",
     "text": [
      "[I 2024-12-23 10:17:07,594] Trial 41 finished with value: 0.954701801022565 and parameters: {'units_layer1': 219, 'dropout_layer1': 0.3089605619766435, 'units_layer2': 105, 'dropout_layer2': 0.2884380713549363, 'units_layer3': 33, 'dropout_layer3': 0.266299530475268}. Best is trial 25 with value: 0.9590542585819345.\n",
      "/opt/conda/lib/python3.10/site-packages/keras/src/layers/core/dense.py:87: UserWarning: Do not pass an `input_shape`/`input_dim` argument to a layer. When using Sequential models, prefer using an `Input(shape)` object as the first layer in the model instead.\n",
      "  super().__init__(activity_regularizer=activity_regularizer, **kwargs)\n"
     ]
    },
    {
     "name": "stdout",
     "output_type": "stream",
     "text": [
      "\u001b[1m40/40\u001b[0m \u001b[32m━━━━━━━━━━━━━━━━━━━━\u001b[0m\u001b[37m\u001b[0m \u001b[1m0s\u001b[0m 4ms/step\n"
     ]
    },
    {
     "name": "stderr",
     "output_type": "stream",
     "text": [
      "[I 2024-12-23 10:17:23,432] Trial 42 finished with value: 0.944871200916736 and parameters: {'units_layer1': 221, 'dropout_layer1': 0.3012927673113928, 'units_layer2': 124, 'dropout_layer2': 0.2915745038452285, 'units_layer3': 33, 'dropout_layer3': 0.2673720184874287}. Best is trial 25 with value: 0.9590542585819345.\n",
      "/opt/conda/lib/python3.10/site-packages/keras/src/layers/core/dense.py:87: UserWarning: Do not pass an `input_shape`/`input_dim` argument to a layer. When using Sequential models, prefer using an `Input(shape)` object as the first layer in the model instead.\n",
      "  super().__init__(activity_regularizer=activity_regularizer, **kwargs)\n"
     ]
    },
    {
     "name": "stdout",
     "output_type": "stream",
     "text": [
      "\u001b[1m40/40\u001b[0m \u001b[32m━━━━━━━━━━━━━━━━━━━━\u001b[0m\u001b[37m\u001b[0m \u001b[1m0s\u001b[0m 4ms/step\n"
     ]
    },
    {
     "name": "stderr",
     "output_type": "stream",
     "text": [
      "[I 2024-12-23 10:17:43,664] Trial 43 finished with value: 0.9495695316305865 and parameters: {'units_layer1': 199, 'dropout_layer1': 0.32979498201611196, 'units_layer2': 113, 'dropout_layer2': 0.28002636727511454, 'units_layer3': 28, 'dropout_layer3': 0.24876916100232593}. Best is trial 25 with value: 0.9590542585819345.\n",
      "/opt/conda/lib/python3.10/site-packages/keras/src/layers/core/dense.py:87: UserWarning: Do not pass an `input_shape`/`input_dim` argument to a layer. When using Sequential models, prefer using an `Input(shape)` object as the first layer in the model instead.\n",
      "  super().__init__(activity_regularizer=activity_regularizer, **kwargs)\n"
     ]
    },
    {
     "name": "stdout",
     "output_type": "stream",
     "text": [
      "\u001b[1m40/40\u001b[0m \u001b[32m━━━━━━━━━━━━━━━━━━━━\u001b[0m\u001b[37m\u001b[0m \u001b[1m0s\u001b[0m 4ms/step\n"
     ]
    },
    {
     "name": "stderr",
     "output_type": "stream",
     "text": [
      "[I 2024-12-23 10:18:04,951] Trial 44 finished with value: 0.9498802786618286 and parameters: {'units_layer1': 208, 'dropout_layer1': 0.3556812050537652, 'units_layer2': 104, 'dropout_layer2': 0.3284887780545824, 'units_layer3': 33, 'dropout_layer3': 0.29605528733977987}. Best is trial 25 with value: 0.9590542585819345.\n",
      "/opt/conda/lib/python3.10/site-packages/keras/src/layers/core/dense.py:87: UserWarning: Do not pass an `input_shape`/`input_dim` argument to a layer. When using Sequential models, prefer using an `Input(shape)` object as the first layer in the model instead.\n",
      "  super().__init__(activity_regularizer=activity_regularizer, **kwargs)\n"
     ]
    },
    {
     "name": "stdout",
     "output_type": "stream",
     "text": [
      "\u001b[1m40/40\u001b[0m \u001b[32m━━━━━━━━━━━━━━━━━━━━\u001b[0m\u001b[37m\u001b[0m \u001b[1m0s\u001b[0m 4ms/step\n"
     ]
    },
    {
     "name": "stderr",
     "output_type": "stream",
     "text": [
      "[I 2024-12-23 10:18:26,374] Trial 45 finished with value: 0.9556872236240285 and parameters: {'units_layer1': 245, 'dropout_layer1': 0.2914455625085592, 'units_layer2': 117, 'dropout_layer2': 0.2574368936922727, 'units_layer3': 24, 'dropout_layer3': 0.3722546157126235}. Best is trial 25 with value: 0.9590542585819345.\n",
      "/opt/conda/lib/python3.10/site-packages/keras/src/layers/core/dense.py:87: UserWarning: Do not pass an `input_shape`/`input_dim` argument to a layer. When using Sequential models, prefer using an `Input(shape)` object as the first layer in the model instead.\n",
      "  super().__init__(activity_regularizer=activity_regularizer, **kwargs)\n"
     ]
    },
    {
     "name": "stdout",
     "output_type": "stream",
     "text": [
      "\u001b[1m40/40\u001b[0m \u001b[32m━━━━━━━━━━━━━━━━━━━━\u001b[0m\u001b[37m\u001b[0m \u001b[1m0s\u001b[0m 4ms/step\n"
     ]
    },
    {
     "name": "stderr",
     "output_type": "stream",
     "text": [
      "[I 2024-12-23 10:18:45,285] Trial 46 finished with value: 0.9423691013388431 and parameters: {'units_layer1': 247, 'dropout_layer1': 0.2613665399771418, 'units_layer2': 117, 'dropout_layer2': 0.2589162470984955, 'units_layer3': 22, 'dropout_layer3': 0.43019826433867386}. Best is trial 25 with value: 0.9590542585819345.\n",
      "/opt/conda/lib/python3.10/site-packages/keras/src/layers/core/dense.py:87: UserWarning: Do not pass an `input_shape`/`input_dim` argument to a layer. When using Sequential models, prefer using an `Input(shape)` object as the first layer in the model instead.\n",
      "  super().__init__(activity_regularizer=activity_regularizer, **kwargs)\n"
     ]
    },
    {
     "name": "stdout",
     "output_type": "stream",
     "text": [
      "\u001b[1m40/40\u001b[0m \u001b[32m━━━━━━━━━━━━━━━━━━━━\u001b[0m\u001b[37m\u001b[0m \u001b[1m0s\u001b[0m 4ms/step\n"
     ]
    },
    {
     "name": "stderr",
     "output_type": "stream",
     "text": [
      "[I 2024-12-23 10:19:06,548] Trial 47 finished with value: 0.9524486602934988 and parameters: {'units_layer1': 227, 'dropout_layer1': 0.30448008485254946, 'units_layer2': 104, 'dropout_layer2': 0.2347974534184363, 'units_layer3': 54, 'dropout_layer3': 0.39992575544234865}. Best is trial 25 with value: 0.9590542585819345.\n",
      "/opt/conda/lib/python3.10/site-packages/keras/src/layers/core/dense.py:87: UserWarning: Do not pass an `input_shape`/`input_dim` argument to a layer. When using Sequential models, prefer using an `Input(shape)` object as the first layer in the model instead.\n",
      "  super().__init__(activity_regularizer=activity_regularizer, **kwargs)\n"
     ]
    },
    {
     "name": "stdout",
     "output_type": "stream",
     "text": [
      "\u001b[1m40/40\u001b[0m \u001b[32m━━━━━━━━━━━━━━━━━━━━\u001b[0m\u001b[37m\u001b[0m \u001b[1m0s\u001b[0m 4ms/step\n"
     ]
    },
    {
     "name": "stderr",
     "output_type": "stream",
     "text": [
      "[I 2024-12-23 10:19:27,094] Trial 48 finished with value: 0.9503015385962346 and parameters: {'units_layer1': 239, 'dropout_layer1': 0.2901769062251215, 'units_layer2': 70, 'dropout_layer2': 0.2730086742664309, 'units_layer3': 16, 'dropout_layer3': 0.36715803009056147}. Best is trial 25 with value: 0.9590542585819345.\n",
      "/opt/conda/lib/python3.10/site-packages/keras/src/layers/core/dense.py:87: UserWarning: Do not pass an `input_shape`/`input_dim` argument to a layer. When using Sequential models, prefer using an `Input(shape)` object as the first layer in the model instead.\n",
      "  super().__init__(activity_regularizer=activity_regularizer, **kwargs)\n"
     ]
    },
    {
     "name": "stdout",
     "output_type": "stream",
     "text": [
      "\u001b[1m40/40\u001b[0m \u001b[32m━━━━━━━━━━━━━━━━━━━━\u001b[0m\u001b[37m\u001b[0m \u001b[1m0s\u001b[0m 4ms/step\n"
     ]
    },
    {
     "name": "stderr",
     "output_type": "stream",
     "text": [
      "[I 2024-12-23 10:19:49,249] Trial 49 finished with value: 0.9546886778209951 and parameters: {'units_layer1': 249, 'dropout_layer1': 0.27203946683292984, 'units_layer2': 84, 'dropout_layer2': 0.2126963138464851, 'units_layer3': 24, 'dropout_layer3': 0.455628845496979}. Best is trial 25 with value: 0.9590542585819345.\n"
     ]
    },
    {
     "name": "stdout",
     "output_type": "stream",
     "text": [
      "Best trial: 0.9590542585819345\n",
      "Best parameters: {'units_layer1': 215, 'dropout_layer1': 0.31918802696381093, 'units_layer2': 113, 'dropout_layer2': 0.23456367309382886, 'units_layer3': 33, 'dropout_layer3': 0.3248957492164867}\n"
     ]
    }
   ],
   "source": [
    "# Định nghĩa hàm mục tiêu cho Optuna\n",
    "def objective(trial):\n",
    "    model = Sequential()\n",
    "    model.add(Dense(trial.suggest_int('units_layer1', 64, 256), activation='relu', input_shape=(X_train.shape[1],), kernel_regularizer=l1_l2(l1=1e-5, l2=1e-4)))\n",
    "    model.add(BatchNormalization())\n",
    "    model.add(Dropout(trial.suggest_float('dropout_layer1', 0.2, 0.5)))\n",
    "    \n",
    "    model.add(Dense(trial.suggest_int('units_layer2', 32, 128), activation='relu', kernel_regularizer=l1_l2(l1=1e-5, l2=1e-4)))\n",
    "    model.add(BatchNormalization())\n",
    "    model.add(Dropout(trial.suggest_float('dropout_layer2', 0.2, 0.5)))\n",
    "    \n",
    "    model.add(Dense(trial.suggest_int('units_layer3', 16, 64), activation='relu', kernel_regularizer=l1_l2(l1=1e-5, l2=1e-4)))\n",
    "    model.add(BatchNormalization())\n",
    "    model.add(Dropout(trial.suggest_float('dropout_layer3', 0.2, 0.5)))\n",
    "    \n",
    "    model.add(Dense(4, activation='softmax'))  # Lớp đầu ra cho bài toán phân loại đa lớp\n",
    "    \n",
    "    model.compile(optimizer='adam', loss='categorical_crossentropy', metrics=['accuracy'])\n",
    "    \n",
    "    early_stopping = EarlyStopping(monitor='val_loss', patience=5, restore_best_weights=True)\n",
    "    \n",
    "    model.fit(X_train, y_train, validation_data=(X_val, y_val), epochs=100, batch_size=64, callbacks=[early_stopping], verbose=0)\n",
    "    \n",
    "    val_predictions = model.predict(X_val)\n",
    "    val_auc = roc_auc_score(y_val, val_predictions, multi_class='ovr')\n",
    "    \n",
    "    return val_auc\n",
    "\n",
    "# Tạo study và tối ưu hóa\n",
    "study = optuna.create_study(direction='maximize')\n",
    "study.optimize(objective, n_trials=50)\n",
    "\n",
    "print(f\"Best trial: {study.best_trial.value}\")\n",
    "print(f\"Best parameters: {study.best_trial.params}\")"
   ]
  },
  {
   "cell_type": "code",
   "execution_count": 5,
   "id": "1d2bb3f5",
   "metadata": {
    "execution": {
     "iopub.execute_input": "2024-12-23T10:19:49.297713Z",
     "iopub.status.busy": "2024-12-23T10:19:49.297310Z",
     "iopub.status.idle": "2024-12-23T10:20:08.459130Z",
     "shell.execute_reply": "2024-12-23T10:20:08.457875Z"
    },
    "papermill": {
     "duration": 19.185072,
     "end_time": "2024-12-23T10:20:08.461410",
     "exception": false,
     "start_time": "2024-12-23T10:19:49.276338",
     "status": "completed"
    },
    "tags": []
   },
   "outputs": [
    {
     "name": "stderr",
     "output_type": "stream",
     "text": [
      "/opt/conda/lib/python3.10/site-packages/keras/src/layers/core/dense.py:87: UserWarning: Do not pass an `input_shape`/`input_dim` argument to a layer. When using Sequential models, prefer using an `Input(shape)` object as the first layer in the model instead.\n",
      "  super().__init__(activity_regularizer=activity_regularizer, **kwargs)\n"
     ]
    },
    {
     "name": "stdout",
     "output_type": "stream",
     "text": [
      "Epoch 1/100\n",
      "80/80 - 4s - 44ms/step - accuracy: 0.4520 - loss: 1.4687 - val_accuracy: 0.5862 - val_loss: 1.0732\n",
      "Epoch 2/100\n",
      "80/80 - 0s - 5ms/step - accuracy: 0.5688 - loss: 1.1026 - val_accuracy: 0.6654 - val_loss: 0.9027\n",
      "Epoch 3/100\n",
      "80/80 - 0s - 5ms/step - accuracy: 0.6129 - loss: 0.9718 - val_accuracy: 0.6975 - val_loss: 0.8080\n",
      "Epoch 4/100\n",
      "80/80 - 0s - 5ms/step - accuracy: 0.6357 - loss: 0.8982 - val_accuracy: 0.7155 - val_loss: 0.7566\n",
      "Epoch 5/100\n",
      "80/80 - 0s - 5ms/step - accuracy: 0.6690 - loss: 0.8290 - val_accuracy: 0.7210 - val_loss: 0.7230\n",
      "Epoch 6/100\n",
      "80/80 - 0s - 5ms/step - accuracy: 0.6876 - loss: 0.7843 - val_accuracy: 0.7265 - val_loss: 0.6957\n",
      "Epoch 7/100\n",
      "80/80 - 0s - 5ms/step - accuracy: 0.7045 - loss: 0.7568 - val_accuracy: 0.7328 - val_loss: 0.6799\n",
      "Epoch 8/100\n",
      "80/80 - 0s - 5ms/step - accuracy: 0.7112 - loss: 0.7246 - val_accuracy: 0.7484 - val_loss: 0.6635\n",
      "Epoch 9/100\n",
      "80/80 - 0s - 5ms/step - accuracy: 0.7186 - loss: 0.7123 - val_accuracy: 0.7414 - val_loss: 0.6531\n",
      "Epoch 10/100\n",
      "80/80 - 0s - 5ms/step - accuracy: 0.7300 - loss: 0.6774 - val_accuracy: 0.7571 - val_loss: 0.6504\n",
      "Epoch 11/100\n",
      "80/80 - 0s - 5ms/step - accuracy: 0.7357 - loss: 0.6722 - val_accuracy: 0.7641 - val_loss: 0.6326\n",
      "Epoch 12/100\n",
      "80/80 - 0s - 5ms/step - accuracy: 0.7465 - loss: 0.6488 - val_accuracy: 0.7563 - val_loss: 0.6249\n",
      "Epoch 13/100\n",
      "80/80 - 0s - 5ms/step - accuracy: 0.7682 - loss: 0.6398 - val_accuracy: 0.7751 - val_loss: 0.6074\n",
      "Epoch 14/100\n",
      "80/80 - 0s - 5ms/step - accuracy: 0.7635 - loss: 0.6201 - val_accuracy: 0.7578 - val_loss: 0.5978\n",
      "Epoch 15/100\n",
      "80/80 - 0s - 5ms/step - accuracy: 0.7629 - loss: 0.6165 - val_accuracy: 0.7618 - val_loss: 0.6018\n",
      "Epoch 16/100\n",
      "80/80 - 0s - 5ms/step - accuracy: 0.7771 - loss: 0.5957 - val_accuracy: 0.7680 - val_loss: 0.5817\n",
      "Epoch 17/100\n",
      "80/80 - 0s - 5ms/step - accuracy: 0.7820 - loss: 0.5839 - val_accuracy: 0.7884 - val_loss: 0.5605\n",
      "Epoch 18/100\n",
      "80/80 - 0s - 5ms/step - accuracy: 0.7906 - loss: 0.5638 - val_accuracy: 0.7829 - val_loss: 0.5682\n",
      "Epoch 19/100\n",
      "80/80 - 0s - 5ms/step - accuracy: 0.7902 - loss: 0.5652 - val_accuracy: 0.7766 - val_loss: 0.5671\n",
      "Epoch 20/100\n",
      "80/80 - 0s - 5ms/step - accuracy: 0.8024 - loss: 0.5461 - val_accuracy: 0.7845 - val_loss: 0.5625\n",
      "Epoch 21/100\n",
      "80/80 - 0s - 5ms/step - accuracy: 0.8031 - loss: 0.5406 - val_accuracy: 0.7923 - val_loss: 0.5571\n",
      "Epoch 22/100\n",
      "80/80 - 0s - 5ms/step - accuracy: 0.8102 - loss: 0.5186 - val_accuracy: 0.7900 - val_loss: 0.5534\n",
      "Epoch 23/100\n",
      "80/80 - 0s - 5ms/step - accuracy: 0.8147 - loss: 0.5133 - val_accuracy: 0.7994 - val_loss: 0.5444\n",
      "Epoch 24/100\n",
      "80/80 - 0s - 5ms/step - accuracy: 0.8159 - loss: 0.5026 - val_accuracy: 0.7994 - val_loss: 0.5435\n",
      "Epoch 25/100\n",
      "80/80 - 0s - 5ms/step - accuracy: 0.8135 - loss: 0.5040 - val_accuracy: 0.7978 - val_loss: 0.5447\n",
      "Epoch 26/100\n",
      "80/80 - 0s - 5ms/step - accuracy: 0.8200 - loss: 0.4904 - val_accuracy: 0.8111 - val_loss: 0.5430\n",
      "Epoch 27/100\n",
      "80/80 - 0s - 5ms/step - accuracy: 0.8243 - loss: 0.4830 - val_accuracy: 0.7955 - val_loss: 0.5353\n",
      "Epoch 28/100\n",
      "80/80 - 0s - 5ms/step - accuracy: 0.8357 - loss: 0.4702 - val_accuracy: 0.8009 - val_loss: 0.5390\n",
      "Epoch 29/100\n",
      "80/80 - 0s - 5ms/step - accuracy: 0.8353 - loss: 0.4734 - val_accuracy: 0.8056 - val_loss: 0.5250\n",
      "Epoch 30/100\n",
      "80/80 - 0s - 5ms/step - accuracy: 0.8418 - loss: 0.4535 - val_accuracy: 0.8088 - val_loss: 0.5279\n",
      "Epoch 31/100\n",
      "80/80 - 0s - 5ms/step - accuracy: 0.8382 - loss: 0.4586 - val_accuracy: 0.8135 - val_loss: 0.5289\n",
      "Epoch 32/100\n",
      "80/80 - 0s - 5ms/step - accuracy: 0.8445 - loss: 0.4438 - val_accuracy: 0.8041 - val_loss: 0.5289\n",
      "Epoch 33/100\n",
      "80/80 - 0s - 5ms/step - accuracy: 0.8373 - loss: 0.4591 - val_accuracy: 0.8072 - val_loss: 0.5200\n",
      "Epoch 34/100\n",
      "80/80 - 0s - 5ms/step - accuracy: 0.8445 - loss: 0.4405 - val_accuracy: 0.8088 - val_loss: 0.5154\n",
      "Epoch 35/100\n",
      "80/80 - 0s - 5ms/step - accuracy: 0.8498 - loss: 0.4414 - val_accuracy: 0.8080 - val_loss: 0.5328\n",
      "Epoch 36/100\n",
      "80/80 - 0s - 5ms/step - accuracy: 0.8496 - loss: 0.4259 - val_accuracy: 0.8041 - val_loss: 0.5235\n",
      "Epoch 37/100\n",
      "80/80 - 0s - 6ms/step - accuracy: 0.8576 - loss: 0.4256 - val_accuracy: 0.8111 - val_loss: 0.5323\n",
      "Epoch 38/100\n",
      "80/80 - 0s - 5ms/step - accuracy: 0.8631 - loss: 0.4140 - val_accuracy: 0.8119 - val_loss: 0.5246\n",
      "Epoch 39/100\n",
      "80/80 - 0s - 5ms/step - accuracy: 0.8584 - loss: 0.4134 - val_accuracy: 0.8150 - val_loss: 0.5243\n"
     ]
    },
    {
     "data": {
      "text/plain": [
       "<keras.src.callbacks.history.History at 0x7f5ad228d300>"
      ]
     },
     "execution_count": 5,
     "metadata": {},
     "output_type": "execute_result"
    }
   ],
   "source": [
    "# Sử dụng các tham số tốt nhất để huấn luyện mô hình cuối cùng\n",
    "best_params = study.best_trial.params\n",
    "\n",
    "model = Sequential()\n",
    "model.add(Dense(best_params['units_layer1'], activation='relu', input_shape=(X_train.shape[1],), kernel_regularizer=l1_l2(l1=1e-5, l2=1e-4)))\n",
    "model.add(BatchNormalization())\n",
    "model.add(Dropout(best_params['dropout_layer1']))\n",
    "\n",
    "model.add(Dense(best_params['units_layer2'], activation='relu', kernel_regularizer=l1_l2(l1=1e-5, l2=1e-4)))\n",
    "model.add(BatchNormalization())\n",
    "model.add(Dropout(best_params['dropout_layer2']))\n",
    "\n",
    "model.add(Dense(best_params['units_layer3'], activation='relu', kernel_regularizer=l1_l2(l1=1e-5, l2=1e-4)))\n",
    "model.add(BatchNormalization())\n",
    "model.add(Dropout(best_params['dropout_layer3']))\n",
    "\n",
    "model.add(Dense(4, activation='softmax'))  # Lớp đầu ra cho bài toán phân loại đa lớp\n",
    "\n",
    "model.compile(optimizer='adam', loss='categorical_crossentropy', metrics=['accuracy'])\n",
    "\n",
    "early_stopping = EarlyStopping(monitor='val_loss', patience=5, restore_best_weights=True)\n",
    "\n",
    "model.fit(X_train, y_train, validation_data=(X_val, y_val), epochs=100, batch_size=64, callbacks=[early_stopping], verbose=2)\n"
   ]
  },
  {
   "cell_type": "code",
   "execution_count": 6,
   "id": "4514b603",
   "metadata": {
    "execution": {
     "iopub.execute_input": "2024-12-23T10:20:08.510351Z",
     "iopub.status.busy": "2024-12-23T10:20:08.509982Z",
     "iopub.status.idle": "2024-12-23T10:20:54.474234Z",
     "shell.execute_reply": "2024-12-23T10:20:54.473234Z"
    },
    "papermill": {
     "duration": 45.9911,
     "end_time": "2024-12-23T10:20:54.476429",
     "exception": false,
     "start_time": "2024-12-23T10:20:08.485329",
     "status": "completed"
    },
    "tags": []
   },
   "outputs": [
    {
     "name": "stdout",
     "output_type": "stream",
     "text": [
      "\u001b[1m40/40\u001b[0m \u001b[32m━━━━━━━━━━━━━━━━━━━━\u001b[0m\u001b[37m\u001b[0m \u001b[1m0s\u001b[0m 4ms/step\n",
      "Validation AUC: 0.9497\n",
      "Validation Accuracy: 0.8088\n",
      "Epoch 1/100\n",
      "100/100 - 0s - 4ms/step - accuracy: 0.8327 - loss: 0.4858\n",
      "Epoch 2/100\n"
     ]
    },
    {
     "name": "stderr",
     "output_type": "stream",
     "text": [
      "/opt/conda/lib/python3.10/site-packages/keras/src/callbacks/early_stopping.py:155: UserWarning: Early stopping conditioned on metric `val_loss` which is not available. Available metrics are: accuracy,loss\n",
      "  current = self.get_monitor_value(logs)\n"
     ]
    },
    {
     "name": "stdout",
     "output_type": "stream",
     "text": [
      "100/100 - 0s - 5ms/step - accuracy: 0.8386 - loss: 0.4719\n",
      "Epoch 3/100\n",
      "100/100 - 0s - 5ms/step - accuracy: 0.8356 - loss: 0.4592\n",
      "Epoch 4/100\n",
      "100/100 - 0s - 5ms/step - accuracy: 0.8408 - loss: 0.4555\n",
      "Epoch 5/100\n",
      "100/100 - 0s - 5ms/step - accuracy: 0.8483 - loss: 0.4305\n",
      "Epoch 6/100\n",
      "100/100 - 0s - 5ms/step - accuracy: 0.8446 - loss: 0.4438\n",
      "Epoch 7/100\n",
      "100/100 - 0s - 5ms/step - accuracy: 0.8438 - loss: 0.4374\n",
      "Epoch 8/100\n",
      "100/100 - 0s - 5ms/step - accuracy: 0.8532 - loss: 0.4229\n",
      "Epoch 9/100\n",
      "100/100 - 0s - 5ms/step - accuracy: 0.8566 - loss: 0.4084\n",
      "Epoch 10/100\n",
      "100/100 - 0s - 5ms/step - accuracy: 0.8585 - loss: 0.4094\n",
      "Epoch 11/100\n",
      "100/100 - 0s - 5ms/step - accuracy: 0.8637 - loss: 0.3995\n",
      "Epoch 12/100\n",
      "100/100 - 0s - 5ms/step - accuracy: 0.8617 - loss: 0.4048\n",
      "Epoch 13/100\n",
      "100/100 - 0s - 5ms/step - accuracy: 0.8646 - loss: 0.3995\n",
      "Epoch 14/100\n",
      "100/100 - 0s - 5ms/step - accuracy: 0.8621 - loss: 0.3963\n",
      "Epoch 15/100\n",
      "100/100 - 0s - 5ms/step - accuracy: 0.8667 - loss: 0.4049\n",
      "Epoch 16/100\n",
      "100/100 - 0s - 5ms/step - accuracy: 0.8654 - loss: 0.3957\n",
      "Epoch 17/100\n",
      "100/100 - 0s - 5ms/step - accuracy: 0.8728 - loss: 0.3865\n",
      "Epoch 18/100\n",
      "100/100 - 1s - 5ms/step - accuracy: 0.8772 - loss: 0.3811\n",
      "Epoch 19/100\n",
      "100/100 - 0s - 4ms/step - accuracy: 0.8763 - loss: 0.3809\n",
      "Epoch 20/100\n",
      "100/100 - 0s - 5ms/step - accuracy: 0.8777 - loss: 0.3714\n",
      "Epoch 21/100\n",
      "100/100 - 0s - 4ms/step - accuracy: 0.8725 - loss: 0.3758\n",
      "Epoch 22/100\n",
      "100/100 - 0s - 5ms/step - accuracy: 0.8756 - loss: 0.3699\n",
      "Epoch 23/100\n",
      "100/100 - 0s - 4ms/step - accuracy: 0.8817 - loss: 0.3613\n",
      "Epoch 24/100\n",
      "100/100 - 0s - 5ms/step - accuracy: 0.8781 - loss: 0.3645\n",
      "Epoch 25/100\n",
      "100/100 - 0s - 5ms/step - accuracy: 0.8857 - loss: 0.3442\n",
      "Epoch 26/100\n",
      "100/100 - 0s - 5ms/step - accuracy: 0.8885 - loss: 0.3512\n",
      "Epoch 27/100\n",
      "100/100 - 0s - 4ms/step - accuracy: 0.8843 - loss: 0.3625\n",
      "Epoch 28/100\n",
      "100/100 - 0s - 4ms/step - accuracy: 0.8886 - loss: 0.3531\n",
      "Epoch 29/100\n",
      "100/100 - 0s - 5ms/step - accuracy: 0.8883 - loss: 0.3449\n",
      "Epoch 30/100\n",
      "100/100 - 0s - 4ms/step - accuracy: 0.8896 - loss: 0.3421\n",
      "Epoch 31/100\n",
      "100/100 - 0s - 4ms/step - accuracy: 0.8875 - loss: 0.3475\n",
      "Epoch 32/100\n",
      "100/100 - 0s - 4ms/step - accuracy: 0.8941 - loss: 0.3379\n",
      "Epoch 33/100\n",
      "100/100 - 0s - 4ms/step - accuracy: 0.8979 - loss: 0.3256\n",
      "Epoch 34/100\n",
      "100/100 - 0s - 4ms/step - accuracy: 0.8982 - loss: 0.3260\n",
      "Epoch 35/100\n",
      "100/100 - 0s - 4ms/step - accuracy: 0.8952 - loss: 0.3367\n",
      "Epoch 36/100\n",
      "100/100 - 0s - 4ms/step - accuracy: 0.8965 - loss: 0.3381\n",
      "Epoch 37/100\n",
      "100/100 - 0s - 4ms/step - accuracy: 0.8971 - loss: 0.3288\n",
      "Epoch 38/100\n",
      "100/100 - 0s - 5ms/step - accuracy: 0.8984 - loss: 0.3225\n",
      "Epoch 39/100\n",
      "100/100 - 0s - 4ms/step - accuracy: 0.9018 - loss: 0.3219\n",
      "Epoch 40/100\n",
      "100/100 - 1s - 5ms/step - accuracy: 0.8971 - loss: 0.3219\n",
      "Epoch 41/100\n",
      "100/100 - 0s - 5ms/step - accuracy: 0.9017 - loss: 0.3227\n",
      "Epoch 42/100\n",
      "100/100 - 0s - 5ms/step - accuracy: 0.9059 - loss: 0.3059\n",
      "Epoch 43/100\n",
      "100/100 - 0s - 4ms/step - accuracy: 0.9018 - loss: 0.3175\n",
      "Epoch 44/100\n",
      "100/100 - 0s - 4ms/step - accuracy: 0.9017 - loss: 0.3166\n",
      "Epoch 45/100\n",
      "100/100 - 0s - 5ms/step - accuracy: 0.9050 - loss: 0.3209\n",
      "Epoch 46/100\n",
      "100/100 - 0s - 4ms/step - accuracy: 0.9026 - loss: 0.3189\n",
      "Epoch 47/100\n",
      "100/100 - 0s - 4ms/step - accuracy: 0.9084 - loss: 0.3085\n",
      "Epoch 48/100\n",
      "100/100 - 0s - 4ms/step - accuracy: 0.9111 - loss: 0.3026\n",
      "Epoch 49/100\n",
      "100/100 - 0s - 4ms/step - accuracy: 0.9117 - loss: 0.2942\n",
      "Epoch 50/100\n",
      "100/100 - 0s - 4ms/step - accuracy: 0.9092 - loss: 0.3017\n",
      "Epoch 51/100\n",
      "100/100 - 0s - 4ms/step - accuracy: 0.9131 - loss: 0.3011\n",
      "Epoch 52/100\n",
      "100/100 - 0s - 5ms/step - accuracy: 0.9159 - loss: 0.2914\n",
      "Epoch 53/100\n",
      "100/100 - 0s - 4ms/step - accuracy: 0.9034 - loss: 0.3105\n",
      "Epoch 54/100\n",
      "100/100 - 0s - 4ms/step - accuracy: 0.9125 - loss: 0.2989\n",
      "Epoch 55/100\n",
      "100/100 - 0s - 4ms/step - accuracy: 0.9119 - loss: 0.2991\n",
      "Epoch 56/100\n",
      "100/100 - 0s - 4ms/step - accuracy: 0.9111 - loss: 0.2952\n",
      "Epoch 57/100\n",
      "100/100 - 0s - 4ms/step - accuracy: 0.9136 - loss: 0.2998\n",
      "Epoch 58/100\n",
      "100/100 - 0s - 5ms/step - accuracy: 0.9122 - loss: 0.2983\n",
      "Epoch 59/100\n",
      "100/100 - 0s - 4ms/step - accuracy: 0.9162 - loss: 0.2907\n",
      "Epoch 60/100\n",
      "100/100 - 0s - 4ms/step - accuracy: 0.9162 - loss: 0.2878\n",
      "Epoch 61/100\n",
      "100/100 - 0s - 4ms/step - accuracy: 0.9145 - loss: 0.2874\n",
      "Epoch 62/100\n",
      "100/100 - 0s - 4ms/step - accuracy: 0.9177 - loss: 0.2859\n",
      "Epoch 63/100\n",
      "100/100 - 1s - 5ms/step - accuracy: 0.9211 - loss: 0.2805\n",
      "Epoch 64/100\n",
      "100/100 - 1s - 6ms/step - accuracy: 0.9169 - loss: 0.2896\n",
      "Epoch 65/100\n",
      "100/100 - 0s - 5ms/step - accuracy: 0.9233 - loss: 0.2803\n",
      "Epoch 66/100\n",
      "100/100 - 1s - 6ms/step - accuracy: 0.9210 - loss: 0.2753\n",
      "Epoch 67/100\n",
      "100/100 - 0s - 5ms/step - accuracy: 0.9216 - loss: 0.2743\n",
      "Epoch 68/100\n",
      "100/100 - 0s - 4ms/step - accuracy: 0.9202 - loss: 0.2797\n",
      "Epoch 69/100\n",
      "100/100 - 0s - 4ms/step - accuracy: 0.9247 - loss: 0.2709\n",
      "Epoch 70/100\n",
      "100/100 - 0s - 4ms/step - accuracy: 0.9161 - loss: 0.2852\n",
      "Epoch 71/100\n",
      "100/100 - 0s - 4ms/step - accuracy: 0.9247 - loss: 0.2744\n",
      "Epoch 72/100\n",
      "100/100 - 0s - 5ms/step - accuracy: 0.9191 - loss: 0.2785\n",
      "Epoch 73/100\n",
      "100/100 - 0s - 5ms/step - accuracy: 0.9217 - loss: 0.2881\n",
      "Epoch 74/100\n",
      "100/100 - 1s - 5ms/step - accuracy: 0.9261 - loss: 0.2652\n",
      "Epoch 75/100\n",
      "100/100 - 0s - 5ms/step - accuracy: 0.9291 - loss: 0.2673\n",
      "Epoch 76/100\n",
      "100/100 - 0s - 4ms/step - accuracy: 0.9337 - loss: 0.2546\n",
      "Epoch 77/100\n",
      "100/100 - 0s - 4ms/step - accuracy: 0.9208 - loss: 0.2829\n",
      "Epoch 78/100\n",
      "100/100 - 0s - 4ms/step - accuracy: 0.9274 - loss: 0.2769\n",
      "Epoch 79/100\n",
      "100/100 - 0s - 4ms/step - accuracy: 0.9244 - loss: 0.2784\n",
      "Epoch 80/100\n",
      "100/100 - 0s - 4ms/step - accuracy: 0.9288 - loss: 0.2613\n",
      "Epoch 81/100\n",
      "100/100 - 0s - 4ms/step - accuracy: 0.9272 - loss: 0.2691\n",
      "Epoch 82/100\n",
      "100/100 - 0s - 4ms/step - accuracy: 0.9321 - loss: 0.2535\n",
      "Epoch 83/100\n",
      "100/100 - 0s - 4ms/step - accuracy: 0.9308 - loss: 0.2661\n",
      "Epoch 84/100\n",
      "100/100 - 0s - 4ms/step - accuracy: 0.9348 - loss: 0.2541\n",
      "Epoch 85/100\n",
      "100/100 - 0s - 5ms/step - accuracy: 0.9302 - loss: 0.2579\n",
      "Epoch 86/100\n",
      "100/100 - 0s - 5ms/step - accuracy: 0.9305 - loss: 0.2638\n",
      "Epoch 87/100\n",
      "100/100 - 0s - 5ms/step - accuracy: 0.9304 - loss: 0.2592\n",
      "Epoch 88/100\n",
      "100/100 - 0s - 4ms/step - accuracy: 0.9379 - loss: 0.2421\n",
      "Epoch 89/100\n",
      "100/100 - 0s - 4ms/step - accuracy: 0.9365 - loss: 0.2535\n",
      "Epoch 90/100\n",
      "100/100 - 0s - 5ms/step - accuracy: 0.9327 - loss: 0.2566\n",
      "Epoch 91/100\n",
      "100/100 - 0s - 4ms/step - accuracy: 0.9319 - loss: 0.2502\n",
      "Epoch 92/100\n",
      "100/100 - 0s - 4ms/step - accuracy: 0.9286 - loss: 0.2702\n",
      "Epoch 93/100\n",
      "100/100 - 0s - 4ms/step - accuracy: 0.9319 - loss: 0.2648\n",
      "Epoch 94/100\n",
      "100/100 - 0s - 4ms/step - accuracy: 0.9294 - loss: 0.2543\n",
      "Epoch 95/100\n",
      "100/100 - 0s - 4ms/step - accuracy: 0.9330 - loss: 0.2527\n",
      "Epoch 96/100\n",
      "100/100 - 0s - 5ms/step - accuracy: 0.9272 - loss: 0.2724\n",
      "Epoch 97/100\n",
      "100/100 - 0s - 4ms/step - accuracy: 0.9366 - loss: 0.2553\n",
      "Epoch 98/100\n",
      "100/100 - 0s - 4ms/step - accuracy: 0.9346 - loss: 0.2441\n",
      "Epoch 99/100\n",
      "100/100 - 0s - 5ms/step - accuracy: 0.9313 - loss: 0.2579\n",
      "Epoch 100/100\n",
      "100/100 - 0s - 4ms/step - accuracy: 0.9365 - loss: 0.2443\n"
     ]
    },
    {
     "data": {
      "text/plain": [
       "<keras.src.callbacks.history.History at 0x7f5ad1d8e680>"
      ]
     },
     "execution_count": 6,
     "metadata": {},
     "output_type": "execute_result"
    }
   ],
   "source": [
    "# Đánh giá trên tập kiểm tra\n",
    "val_predictions = model.predict(X_val)\n",
    "val_auc = roc_auc_score(y_val, val_predictions, multi_class='ovr')\n",
    "print(f\"Validation AUC: {val_auc:.4f}\")\n",
    "\n",
    "val_labels = np.argmax(y_val, axis=1)\n",
    "pred_labels = np.argmax(val_predictions, axis=1)\n",
    "val_accuracy = np.mean(val_labels == pred_labels)\n",
    "print(f\"Validation Accuracy: {val_accuracy:.4f}\")\n",
    "\n",
    "# Huấn luyện lại trên toàn bộ dữ liệu\n",
    "model.fit(X, y, epochs=100, batch_size=64, callbacks=[early_stopping], verbose=2)\n"
   ]
  },
  {
   "cell_type": "code",
   "execution_count": 7,
   "id": "34bad93c",
   "metadata": {
    "execution": {
     "iopub.execute_input": "2024-12-23T10:20:54.546199Z",
     "iopub.status.busy": "2024-12-23T10:20:54.545739Z",
     "iopub.status.idle": "2024-12-23T10:20:54.628662Z",
     "shell.execute_reply": "2024-12-23T10:20:54.627389Z"
    },
    "papermill": {
     "duration": 0.120967,
     "end_time": "2024-12-23T10:20:54.631359",
     "exception": false,
     "start_time": "2024-12-23T10:20:54.510392",
     "status": "completed"
    },
    "tags": []
   },
   "outputs": [
    {
     "name": "stdout",
     "output_type": "stream",
     "text": [
      "\u001b[1m1/1\u001b[0m \u001b[32m━━━━━━━━━━━━━━━━━━━━\u001b[0m\u001b[37m\u001b[0m \u001b[1m0s\u001b[0m 22ms/step\n",
      "Tệp nộp đã được lưu: /kaggle/working/submission.csv\n"
     ]
    }
   ],
   "source": [
    "# Dự đoán trên tập kiểm tra\n",
    "test_predictions = model.predict(X_test)\n",
    "test_labels = np.argmax(test_predictions, axis=1)\n",
    "\n",
    "# Chuẩn bị tệp nộp\n",
    "submission = pd.DataFrame({'id': id_column, 'sii': test_labels})\n",
    "submission.to_csv('/kaggle/working/submission.csv', index=False)\n",
    "print(\"Tệp nộp đã được lưu: /kaggle/working/submission.csv\")"
   ]
  }
 ],
 "metadata": {
  "kaggle": {
   "accelerator": "none",
   "dataSources": [
    {
     "databundleVersionId": 9643020,
     "sourceId": 81933,
     "sourceType": "competition"
    }
   ],
   "dockerImageVersionId": 30804,
   "isGpuEnabled": false,
   "isInternetEnabled": false,
   "language": "python",
   "sourceType": "notebook"
  },
  "kernelspec": {
   "display_name": "Python 3",
   "language": "python",
   "name": "python3"
  },
  "language_info": {
   "codemirror_mode": {
    "name": "ipython",
    "version": 3
   },
   "file_extension": ".py",
   "mimetype": "text/x-python",
   "name": "python",
   "nbconvert_exporter": "python",
   "pygments_lexer": "ipython3",
   "version": "3.10.14"
  },
  "papermill": {
   "default_parameters": {},
   "duration": 1176.110773,
   "end_time": "2024-12-23T10:20:57.491232",
   "environment_variables": {},
   "exception": null,
   "input_path": "__notebook__.ipynb",
   "output_path": "__notebook__.ipynb",
   "parameters": {},
   "start_time": "2024-12-23T10:01:21.380459",
   "version": "2.6.0"
  }
 },
 "nbformat": 4,
 "nbformat_minor": 5
}
