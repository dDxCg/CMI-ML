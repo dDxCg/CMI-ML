{
 "cells": [
  {
   "cell_type": "code",
   "execution_count": 1,
   "id": "e9ad276e",
   "metadata": {
    "execution": {
     "iopub.execute_input": "2024-12-18T09:20:58.586497Z",
     "iopub.status.busy": "2024-12-18T09:20:58.586138Z",
     "iopub.status.idle": "2024-12-18T09:21:04.309553Z",
     "shell.execute_reply": "2024-12-18T09:21:04.308429Z"
    },
    "papermill": {
     "duration": 5.729374,
     "end_time": "2024-12-18T09:21:04.311848",
     "exception": false,
     "start_time": "2024-12-18T09:20:58.582474",
     "status": "completed"
    },
    "tags": []
   },
   "outputs": [
    {
     "name": "stdout",
     "output_type": "stream",
     "text": [
      "Validation AUC: 0.9553\n",
      "              precision    recall  f1-score   support\n",
      "\n",
      "         0.0       0.76      0.74      0.75       346\n",
      "         1.0       0.70      0.72      0.71       297\n",
      "         2.0       0.86      0.84      0.85       319\n",
      "         3.0       0.97      1.00      0.98       314\n",
      "\n",
      "    accuracy                           0.82      1276\n",
      "   macro avg       0.82      0.83      0.82      1276\n",
      "weighted avg       0.82      0.82      0.82      1276\n",
      "\n",
      "Tệp kết quả đã được lưu: /kaggle/working/submission.csv\n"
     ]
    }
   ],
   "source": [
    "# Import thư viện\n",
    "import numpy as np\n",
    "import pandas as pd\n",
    "from sklearn.model_selection import train_test_split, GridSearchCV\n",
    "from sklearn.ensemble import RandomForestClassifier\n",
    "from sklearn.metrics import roc_auc_score, make_scorer, classification_report\n",
    "from sklearn.preprocessing import StandardScaler\n",
    "from imblearn.over_sampling import SMOTE\n",
    "import os\n",
    "\n",
    "# Đọc dữ liệu\n",
    "train_file = os.path.join('/kaggle/input/child-mind-institute-problematic-internet-use/train.csv')\n",
    "test_file = os.path.join('/kaggle/input/child-mind-institute-problematic-internet-use/test.csv')\n",
    "\n",
    "df = pd.read_csv(train_file)\n",
    "df_test = pd.read_csv(test_file)\n",
    "\n",
    "# Xử lý cột ID\n",
    "id_column = df_test['id']\n",
    "df_test = df_test.drop(columns=['id'])\n",
    "df = df.drop(columns=['id'])\n",
    "\n",
    "# Xử lý cột mục tiêu\n",
    "target = df.pop('sii')\n",
    "df = df[target.notna()]\n",
    "target = target[target.notna()]\n",
    "\n",
    "# Mã hóa cột chuỗi\n",
    "for column in df.columns:\n",
    "    if df[column].dtype == object:\n",
    "        df[column], _ = pd.factorize(df[column])\n",
    "for column in df_test.columns:\n",
    "    if df_test[column].dtype == object:\n",
    "        df_test[column], _ = pd.factorize(df_test[column])\n",
    "\n",
    "# Điền giá trị thiếu\n",
    "df.fillna(df.median(), inplace=True)\n",
    "df_test.fillna(df_test.median(), inplace=True)\n",
    "\n",
    "# Đồng bộ hóa cột giữa df và df_test\n",
    "common_columns = df.columns.intersection(df_test.columns)\n",
    "df = df[common_columns]\n",
    "df_test = df_test[common_columns]\n",
    "\n",
    "\n",
    "# Chuẩn hóa dữ liệu\n",
    "scaler = StandardScaler()\n",
    "X = scaler.fit_transform(df)\n",
    "X_test = scaler.transform(df_test)\n",
    "y = target.values\n",
    "\n",
    "# Cân bằng dữ liệu với SMOTE\n",
    "smote = SMOTE(random_state=42, k_neighbors=5)\n",
    "X, y = smote.fit_resample(X, y)\n",
    "\n",
    "# Chia dữ liệu huấn luyện và kiểm tra\n",
    "X_train, X_val, y_train, y_val = train_test_split(X, y, test_size=0.2, random_state=42)\n",
    "\n",
    "# Huấn luyện mô hình Random Forest\n",
    "rf_model = RandomForestClassifier(random_state=42, n_estimators=100)  # n_estimators mặc định là 100\n",
    "rf_model.fit(X_train, y_train)\n",
    "\n",
    "# Đánh giá trên tập kiểm tra\n",
    "y_val_pred = rf_model.predict_proba(X_val)\n",
    "auc_score = roc_auc_score(y_val, y_val_pred, multi_class='ovr')\n",
    "print(f\"Validation AUC: {auc_score:.4f}\")\n",
    "print(classification_report(y_val, rf_model.predict(X_val)))\n",
    "\n",
    "# Dự đoán trên tập test\n",
    "y_test_pred = rf_model.predict_proba(X_test)\n",
    "y_test_labels = np.argmax(y_test_pred, axis=1)\n",
    "\n",
    "# Tạo tệp submission\n",
    "submission = pd.DataFrame({'id': id_column, 'sii': y_test_labels})\n",
    "submission_file = '/kaggle/working/submission.csv'\n",
    "submission.to_csv(submission_file, index=False)\n",
    "print(f\"Tệp kết quả đã được lưu: {submission_file}\")"
   ]
  },
  {
   "cell_type": "code",
   "execution_count": null,
   "id": "62ff493b",
   "metadata": {
    "_kg_hide-input": true,
    "papermill": {
     "duration": 0.001472,
     "end_time": "2024-12-18T09:21:04.315293",
     "exception": false,
     "start_time": "2024-12-18T09:21:04.313821",
     "status": "completed"
    },
    "scrolled": true,
    "tags": []
   },
   "outputs": [],
   "source": []
  }
 ],
 "metadata": {
  "kaggle": {
   "accelerator": "none",
   "dataSources": [
    {
     "databundleVersionId": 9643020,
     "sourceId": 81933,
     "sourceType": "competition"
    }
   ],
   "dockerImageVersionId": 30804,
   "isGpuEnabled": false,
   "isInternetEnabled": false,
   "language": "python",
   "sourceType": "notebook"
  },
  "kernelspec": {
   "display_name": "Python 3",
   "language": "python",
   "name": "python3"
  },
  "language_info": {
   "codemirror_mode": {
    "name": "ipython",
    "version": 3
   },
   "file_extension": ".py",
   "mimetype": "text/x-python",
   "name": "python",
   "nbconvert_exporter": "python",
   "pygments_lexer": "ipython3",
   "version": "3.10.14"
  },
  "papermill": {
   "default_parameters": {},
   "duration": 9.115801,
   "end_time": "2024-12-18T09:21:04.937625",
   "environment_variables": {},
   "exception": null,
   "input_path": "__notebook__.ipynb",
   "output_path": "__notebook__.ipynb",
   "parameters": {},
   "start_time": "2024-12-18T09:20:55.821824",
   "version": "2.6.0"
  }
 },
 "nbformat": 4,
 "nbformat_minor": 5
}
